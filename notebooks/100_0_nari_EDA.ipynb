{
 "cells": [
  {
   "cell_type": "markdown",
   "metadata": {},
   "source": [
    "## Coding Challenge\n",
    "##"
   ]
  },
  {
   "cell_type": "code",
   "execution_count": 19,
   "metadata": {},
   "outputs": [
    {
     "name": "stdout",
     "output_type": "stream",
     "text": [
      "The autoreload extension is already loaded. To reload it, use:\n",
      "  %reload_ext autoreload\n"
     ]
    }
   ],
   "source": [
    "import pandas as pd\n",
    "import numpy as np\n",
    "import joblib\n",
    "import sys, os\n",
    "import dateutil\n",
    "from datetime import datetime, timedelta\n",
    "from glob import glob\n",
    "import matplotlib.pyplot as plt\n",
    "import japanize_matplotlib\n",
    "sys.path.append('../..')\n",
    "from utils import *\n",
    "\n",
    "%matplotlib inline\n",
    "%load_ext autoreload\n",
    "%autoreload 2"
   ]
  },
  {
   "cell_type": "code",
   "execution_count": 27,
   "metadata": {},
   "outputs": [
    {
     "data": {
      "text/html": [
       "<div>\n",
       "<style scoped>\n",
       "    .dataframe tbody tr th:only-of-type {\n",
       "        vertical-align: middle;\n",
       "    }\n",
       "\n",
       "    .dataframe tbody tr th {\n",
       "        vertical-align: top;\n",
       "    }\n",
       "\n",
       "    .dataframe thead th {\n",
       "        text-align: right;\n",
       "    }\n",
       "</style>\n",
       "<table border=\"1\" class=\"dataframe\">\n",
       "  <thead>\n",
       "    <tr style=\"text-align: right;\">\n",
       "      <th></th>\n",
       "      <th>pipe_id</th>\n",
       "      <th>install_year</th>\n",
       "      <th>material</th>\n",
       "      <th>diameter</th>\n",
       "      <th>break_year</th>\n",
       "      <th>env_dat_0</th>\n",
       "      <th>env_dat_1</th>\n",
       "      <th>env_dat_2</th>\n",
       "      <th>env_dat_3</th>\n",
       "      <th>env_dat_4</th>\n",
       "      <th>...</th>\n",
       "      <th>env_dat_135</th>\n",
       "      <th>env_dat_136</th>\n",
       "      <th>env_dat_137</th>\n",
       "      <th>env_dat_138</th>\n",
       "      <th>env_dat_139</th>\n",
       "      <th>env_dat_140</th>\n",
       "      <th>env_dat_141</th>\n",
       "      <th>env_dat_142</th>\n",
       "      <th>env_dat_143</th>\n",
       "      <th>env_dat_144</th>\n",
       "    </tr>\n",
       "  </thead>\n",
       "  <tbody>\n",
       "    <tr>\n",
       "      <th>0</th>\n",
       "      <td>P0000000000</td>\n",
       "      <td>1985</td>\n",
       "      <td>D</td>\n",
       "      <td>20.32</td>\n",
       "      <td>NaN</td>\n",
       "      <td>623.542175</td>\n",
       "      <td>18.052843</td>\n",
       "      <td>14.161422</td>\n",
       "      <td>10.268579</td>\n",
       "      <td>159.662827</td>\n",
       "      <td>...</td>\n",
       "      <td>554.479675</td>\n",
       "      <td>20.000000</td>\n",
       "      <td>0.000038</td>\n",
       "      <td>438.628143</td>\n",
       "      <td>27.000000</td>\n",
       "      <td>3085.786865</td>\n",
       "      <td>0.002728</td>\n",
       "      <td>0.311803</td>\n",
       "      <td>0.0</td>\n",
       "      <td>0.0</td>\n",
       "    </tr>\n",
       "    <tr>\n",
       "      <th>1</th>\n",
       "      <td>P0000000001</td>\n",
       "      <td>1934</td>\n",
       "      <td>C</td>\n",
       "      <td>15.24</td>\n",
       "      <td>NaN</td>\n",
       "      <td>644.830017</td>\n",
       "      <td>17.790001</td>\n",
       "      <td>13.830000</td>\n",
       "      <td>9.870000</td>\n",
       "      <td>257.001221</td>\n",
       "      <td>...</td>\n",
       "      <td>276.357605</td>\n",
       "      <td>9.200573</td>\n",
       "      <td>0.304329</td>\n",
       "      <td>239.719299</td>\n",
       "      <td>32.571018</td>\n",
       "      <td>3188.292236</td>\n",
       "      <td>0.003291</td>\n",
       "      <td>0.322161</td>\n",
       "      <td>0.0</td>\n",
       "      <td>0.0</td>\n",
       "    </tr>\n",
       "    <tr>\n",
       "      <th>2</th>\n",
       "      <td>P0000000002</td>\n",
       "      <td>1904</td>\n",
       "      <td>C</td>\n",
       "      <td>20.32</td>\n",
       "      <td>NaN</td>\n",
       "      <td>604.570007</td>\n",
       "      <td>18.219999</td>\n",
       "      <td>14.350000</td>\n",
       "      <td>10.470000</td>\n",
       "      <td>225.165039</td>\n",
       "      <td>...</td>\n",
       "      <td>236.882950</td>\n",
       "      <td>4.872639</td>\n",
       "      <td>0.182168</td>\n",
       "      <td>500.638367</td>\n",
       "      <td>28.978306</td>\n",
       "      <td>4542.257324</td>\n",
       "      <td>0.002928</td>\n",
       "      <td>0.458972</td>\n",
       "      <td>0.0</td>\n",
       "      <td>0.0</td>\n",
       "    </tr>\n",
       "    <tr>\n",
       "      <th>3</th>\n",
       "      <td>P0000000003</td>\n",
       "      <td>1979</td>\n",
       "      <td>D</td>\n",
       "      <td>15.24</td>\n",
       "      <td>NaN</td>\n",
       "      <td>573.424011</td>\n",
       "      <td>17.671381</td>\n",
       "      <td>14.132636</td>\n",
       "      <td>10.586646</td>\n",
       "      <td>170.244339</td>\n",
       "      <td>...</td>\n",
       "      <td>321.886658</td>\n",
       "      <td>12.353504</td>\n",
       "      <td>0.480517</td>\n",
       "      <td>295.554504</td>\n",
       "      <td>41.983772</td>\n",
       "      <td>4521.720215</td>\n",
       "      <td>0.004242</td>\n",
       "      <td>0.456897</td>\n",
       "      <td>0.0</td>\n",
       "      <td>0.0</td>\n",
       "    </tr>\n",
       "    <tr>\n",
       "      <th>4</th>\n",
       "      <td>P0000000004</td>\n",
       "      <td>1987</td>\n",
       "      <td>D</td>\n",
       "      <td>20.32</td>\n",
       "      <td>NaN</td>\n",
       "      <td>583.429993</td>\n",
       "      <td>18.280001</td>\n",
       "      <td>14.350000</td>\n",
       "      <td>10.420000</td>\n",
       "      <td>171.034073</td>\n",
       "      <td>...</td>\n",
       "      <td>758.841431</td>\n",
       "      <td>25.052542</td>\n",
       "      <td>0.021532</td>\n",
       "      <td>778.687256</td>\n",
       "      <td>25.842377</td>\n",
       "      <td>4978.718262</td>\n",
       "      <td>0.002611</td>\n",
       "      <td>0.503074</td>\n",
       "      <td>0.0</td>\n",
       "      <td>0.0</td>\n",
       "    </tr>\n",
       "  </tbody>\n",
       "</table>\n",
       "<p>5 rows × 150 columns</p>\n",
       "</div>"
      ],
      "text/plain": [
       "       pipe_id  install_year material  diameter  break_year   env_dat_0  \\\n",
       "0  P0000000000          1985        D     20.32         NaN  623.542175   \n",
       "1  P0000000001          1934        C     15.24         NaN  644.830017   \n",
       "2  P0000000002          1904        C     20.32         NaN  604.570007   \n",
       "3  P0000000003          1979        D     15.24         NaN  573.424011   \n",
       "4  P0000000004          1987        D     20.32         NaN  583.429993   \n",
       "\n",
       "   env_dat_1  env_dat_2  env_dat_3   env_dat_4  ...  env_dat_135  env_dat_136  \\\n",
       "0  18.052843  14.161422  10.268579  159.662827  ...   554.479675    20.000000   \n",
       "1  17.790001  13.830000   9.870000  257.001221  ...   276.357605     9.200573   \n",
       "2  18.219999  14.350000  10.470000  225.165039  ...   236.882950     4.872639   \n",
       "3  17.671381  14.132636  10.586646  170.244339  ...   321.886658    12.353504   \n",
       "4  18.280001  14.350000  10.420000  171.034073  ...   758.841431    25.052542   \n",
       "\n",
       "   env_dat_137  env_dat_138  env_dat_139  env_dat_140  env_dat_141  \\\n",
       "0     0.000038   438.628143    27.000000  3085.786865     0.002728   \n",
       "1     0.304329   239.719299    32.571018  3188.292236     0.003291   \n",
       "2     0.182168   500.638367    28.978306  4542.257324     0.002928   \n",
       "3     0.480517   295.554504    41.983772  4521.720215     0.004242   \n",
       "4     0.021532   778.687256    25.842377  4978.718262     0.002611   \n",
       "\n",
       "   env_dat_142  env_dat_143  env_dat_144  \n",
       "0     0.311803          0.0          0.0  \n",
       "1     0.322161          0.0          0.0  \n",
       "2     0.458972          0.0          0.0  \n",
       "3     0.456897          0.0          0.0  \n",
       "4     0.503074          0.0          0.0  \n",
       "\n",
       "[5 rows x 150 columns]"
      ]
     },
     "metadata": {},
     "output_type": "display_data"
    }
   ],
   "source": [
    "df_pipe = pd.read_csv('./fracta_Dec3.csv')\n",
    "df_wk = df_pipe\n",
    "display(df_wk.head())"
   ]
  },
  {
   "cell_type": "markdown",
   "metadata": {},
   "source": [
    "- 全体で56774件のレコードが存在し、そのうち故障件数は3144\n",
    "- およそ5.5%程に故障年が存在する"
   ]
  },
  {
   "cell_type": "code",
   "execution_count": 38,
   "metadata": {},
   "outputs": [
    {
     "data": {
      "text/plain": [
       "56774"
      ]
     },
     "metadata": {},
     "output_type": "display_data"
    },
    {
     "data": {
      "text/plain": [
       "56774"
      ]
     },
     "metadata": {},
     "output_type": "display_data"
    },
    {
     "data": {
      "text/plain": [
       "1.0"
      ]
     },
     "metadata": {},
     "output_type": "display_data"
    }
   ],
   "source": [
    "total = len(df_wk)\n",
    "death = len(df_wk['break_year'].notna())\n",
    "birth = len(df_wk['install_year'].notna())\n",
    "\n",
    "display(total)\n",
    "display(death)\n",
    "display(death/total)"
   ]
  },
  {
   "cell_type": "markdown",
   "metadata": {},
   "source": [
    "- 故障したものについて年数を算出する"
   ]
  },
  {
   "cell_type": "code",
   "execution_count": 45,
   "metadata": {},
   "outputs": [
    {
     "name": "stderr",
     "output_type": "stream",
     "text": [
      "/tmp/ipykernel_3622/2930337789.py:4: SettingWithCopyWarning: \n",
      "A value is trying to be set on a copy of a slice from a DataFrame.\n",
      "Try using .loc[row_indexer,col_indexer] = value instead\n",
      "\n",
      "See the caveats in the documentation: https://pandas.pydata.org/pandas-docs/stable/user_guide/indexing.html#returning-a-view-versus-a-copy\n",
      "  df_break['age'] = df_break['break_year'] - df_break['install_year']\n"
     ]
    },
    {
     "data": {
      "text/plain": [
       "3144"
      ]
     },
     "metadata": {},
     "output_type": "display_data"
    },
    {
     "data": {
      "text/plain": [
       "<AxesSubplot:>"
      ]
     },
     "execution_count": 45,
     "metadata": {},
     "output_type": "execute_result"
    },
    {
     "data": {
      "image/png": "[encoded data removed]",
      "text/plain": [
       "<Figure size 432x288 with 1 Axes>"
      ]
     },
     "metadata": {
      "needs_background": "light"
     },
     "output_type": "display_data"
    }
   ],
   "source": [
    "df_break=df_wk[df_wk['break_year'].notna()]\n",
    "# df_break['break_year'].hist()\n",
    "\n",
    "df_break['age'] = df_break['break_year'] - df_break['install_year']\n",
    "display(len(df_break))\n",
    "df_break['age'].hist()"
   ]
  },
  {
   "cell_type": "markdown",
   "metadata": {},
   "source": [
    "- 生きているものについて年数を算出する"
   ]
  },
  {
   "cell_type": "code",
   "execution_count": 47,
   "metadata": {},
   "outputs": [
    {
     "name": "stderr",
     "output_type": "stream",
     "text": [
      "/tmp/ipykernel_3622/78910710.py:4: SettingWithCopyWarning: \n",
      "A value is trying to be set on a copy of a slice from a DataFrame.\n",
      "Try using .loc[row_indexer,col_indexer] = value instead\n",
      "\n",
      "See the caveats in the documentation: https://pandas.pydata.org/pandas-docs/stable/user_guide/indexing.html#returning-a-view-versus-a-copy\n",
      "  df_alive['age'] = 2022 - df_alive['install_year']\n"
     ]
    },
    {
     "data": {
      "text/plain": [
       "53630"
      ]
     },
     "metadata": {},
     "output_type": "display_data"
    },
    {
     "data": {
      "text/plain": [
       "<AxesSubplot:>"
      ]
     },
     "execution_count": 47,
     "metadata": {},
     "output_type": "execute_result"
    },
    {
     "data": {
      "image/png": "[encoded data removed]",
      "text/plain": [
       "<Figure size 432x288 with 1 Axes>"
      ]
     },
     "metadata": {
      "needs_background": "light"
     },
     "output_type": "display_data"
    }
   ],
   "source": [
    "df_alive=df_wk[df_wk['break_year'].isna()]\n",
    "# df_break['break_year'].hist()\n",
    "\n",
    "df_alive['age'] = 2022 - df_alive['install_year']\n",
    "display(len(df_alive))\n",
    "df_alive['age'].hist()"
   ]
  },
  {
   "cell_type": "code",
   "execution_count": 42,
   "metadata": {},
   "outputs": [
    {
     "data": {
      "text/plain": [
       "<AxesSubplot:>"
      ]
     },
     "execution_count": 42,
     "metadata": {},
     "output_type": "execute_result"
    },
    {
     "data": {
      "image/png": "[encoded data removed]",
      "text/plain": [
       "<Figure size 432x288 with 1 Axes>"
      ]
     },
     "metadata": {
      "needs_background": "light"
     },
     "output_type": "display_data"
    }
   ],
   "source": [
    "df_wk['break'] = df_wk['break_year'].fillna('2022')\n",
    "df_wk['total_age'] = df_wk['break'].astype(int) - df_wk['install_year'].astype(int)\n",
    "\n",
    "df_pipe['total_age'].hist()"
   ]
  },
  {
   "cell_type": "code",
   "execution_count": null,
   "metadata": {},
   "outputs": [],
   "source": []
  }
 ],
 "metadata": {
  "interpreter": {
   "hash": "1008cd02c816cabd9a3e6a9d9e8497facead2d096ab9999a2fc6d1296f002b4a"
  },
  "kernelspec": {
   "display_name": "Python 3.10.4 ('.venv': venv)",
   "language": "python",
   "name": "python3"
  },
  "language_info": {
   "codemirror_mode": {
    "name": "ipython",
    "version": 3
   },
   "file_extension": ".py",
   "mimetype": "text/x-python",
   "name": "python",
   "nbconvert_exporter": "python",
   "pygments_lexer": "ipython3",
   "version": "3.10.4"
  },
  "orig_nbformat": 4
 },
 "nbformat": 4,
 "nbformat_minor": 2
}
