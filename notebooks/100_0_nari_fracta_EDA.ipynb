{
 "cells": [
  {
   "cell_type": "markdown",
   "metadata": {},
   "source": [
    "## Coding Challenge\n",
    "\n",
    "- 2021年におけるパイプの故障率を予測するモデルを構築する\n",
    "- モデルの評価指標を作成し、それの基づいてモデルを評価する\n",
    "\n"
   ]
  },
  {
   "cell_type": "code",
   "execution_count": 77,
   "metadata": {},
   "outputs": [
    {
     "name": "stdout",
     "output_type": "stream",
     "text": [
      "Requirement already satisfied: Japanize-matplotlib in /home/mozart/anaconda3/lib/python3.9/site-packages (1.1.3)\n",
      "Requirement already satisfied: matplotlib in /home/mozart/anaconda3/lib/python3.9/site-packages (from Japanize-matplotlib) (3.4.3)\n",
      "Requirement already satisfied: kiwisolver>=1.0.1 in /home/mozart/anaconda3/lib/python3.9/site-packages (from matplotlib->Japanize-matplotlib) (1.3.1)\n",
      "Requirement already satisfied: cycler>=0.10 in /home/mozart/anaconda3/lib/python3.9/site-packages (from matplotlib->Japanize-matplotlib) (0.10.0)\n",
      "Requirement already satisfied: python-dateutil>=2.7 in /home/mozart/anaconda3/lib/python3.9/site-packages (from matplotlib->Japanize-matplotlib) (2.8.2)\n",
      "Requirement already satisfied: pyparsing>=2.2.1 in /home/mozart/anaconda3/lib/python3.9/site-packages (from matplotlib->Japanize-matplotlib) (3.0.4)\n",
      "Requirement already satisfied: numpy>=1.16 in /home/mozart/anaconda3/lib/python3.9/site-packages (from matplotlib->Japanize-matplotlib) (1.20.3)\n",
      "Requirement already satisfied: pillow>=6.2.0 in /home/mozart/anaconda3/lib/python3.9/site-packages (from matplotlib->Japanize-matplotlib) (8.4.0)\n",
      "Requirement already satisfied: six in /home/mozart/anaconda3/lib/python3.9/site-packages (from cycler>=0.10->matplotlib->Japanize-matplotlib) (1.16.0)\n"
     ]
    }
   ],
   "source": [
    "!pip3 install Japanize-matplotlib"
   ]
  },
  {
   "cell_type": "code",
   "execution_count": 78,
   "metadata": {},
   "outputs": [
    {
     "name": "stdout",
     "output_type": "stream",
     "text": [
      "The autoreload extension is already loaded. To reload it, use:\n",
      "  %reload_ext autoreload\n"
     ]
    }
   ],
   "source": [
    "import pandas as pd\n",
    "import numpy as np\n",
    "import joblib\n",
    "import sys, os\n",
    "import dateutil\n",
    "from datetime import datetime, timedelta\n",
    "from glob import glob\n",
    "import matplotlib.pyplot as plt\n",
    "import japanize_matplotlib\n",
    "sys.path.append('../..')\n",
    "from utils import *\n",
    "\n",
    "import warnings\n",
    "warnings.filterwarnings(\"ignore\")\n",
    "\n",
    "%matplotlib inline\n",
    "%load_ext autoreload\n",
    "%autoreload 2"
   ]
  },
  {
   "cell_type": "code",
   "execution_count": 79,
   "metadata": {},
   "outputs": [
    {
     "data": {
      "text/html": [
       "<div>\n",
       "<style scoped>\n",
       "    .dataframe tbody tr th:only-of-type {\n",
       "        vertical-align: middle;\n",
       "    }\n",
       "\n",
       "    .dataframe tbody tr th {\n",
       "        vertical-align: top;\n",
       "    }\n",
       "\n",
       "    .dataframe thead th {\n",
       "        text-align: right;\n",
       "    }\n",
       "</style>\n",
       "<table border=\"1\" class=\"dataframe\">\n",
       "  <thead>\n",
       "    <tr style=\"text-align: right;\">\n",
       "      <th></th>\n",
       "      <th>pipe_id</th>\n",
       "      <th>install_year</th>\n",
       "      <th>material</th>\n",
       "      <th>diameter</th>\n",
       "      <th>break_year</th>\n",
       "      <th>env_dat_0</th>\n",
       "      <th>env_dat_1</th>\n",
       "      <th>env_dat_2</th>\n",
       "      <th>env_dat_3</th>\n",
       "      <th>env_dat_4</th>\n",
       "      <th>...</th>\n",
       "      <th>env_dat_135</th>\n",
       "      <th>env_dat_136</th>\n",
       "      <th>env_dat_137</th>\n",
       "      <th>env_dat_138</th>\n",
       "      <th>env_dat_139</th>\n",
       "      <th>env_dat_140</th>\n",
       "      <th>env_dat_141</th>\n",
       "      <th>env_dat_142</th>\n",
       "      <th>env_dat_143</th>\n",
       "      <th>env_dat_144</th>\n",
       "    </tr>\n",
       "  </thead>\n",
       "  <tbody>\n",
       "    <tr>\n",
       "      <th>0</th>\n",
       "      <td>P0000000000</td>\n",
       "      <td>1985</td>\n",
       "      <td>D</td>\n",
       "      <td>20.32</td>\n",
       "      <td>NaN</td>\n",
       "      <td>623.542175</td>\n",
       "      <td>18.052843</td>\n",
       "      <td>14.161422</td>\n",
       "      <td>10.268579</td>\n",
       "      <td>159.662827</td>\n",
       "      <td>...</td>\n",
       "      <td>554.479675</td>\n",
       "      <td>20.000000</td>\n",
       "      <td>0.000038</td>\n",
       "      <td>438.628143</td>\n",
       "      <td>27.000000</td>\n",
       "      <td>3085.786865</td>\n",
       "      <td>0.002728</td>\n",
       "      <td>0.311803</td>\n",
       "      <td>0.0</td>\n",
       "      <td>0.0</td>\n",
       "    </tr>\n",
       "    <tr>\n",
       "      <th>1</th>\n",
       "      <td>P0000000001</td>\n",
       "      <td>1934</td>\n",
       "      <td>C</td>\n",
       "      <td>15.24</td>\n",
       "      <td>NaN</td>\n",
       "      <td>644.830017</td>\n",
       "      <td>17.790001</td>\n",
       "      <td>13.830000</td>\n",
       "      <td>9.870000</td>\n",
       "      <td>257.001221</td>\n",
       "      <td>...</td>\n",
       "      <td>276.357605</td>\n",
       "      <td>9.200573</td>\n",
       "      <td>0.304329</td>\n",
       "      <td>239.719299</td>\n",
       "      <td>32.571018</td>\n",
       "      <td>3188.292236</td>\n",
       "      <td>0.003291</td>\n",
       "      <td>0.322161</td>\n",
       "      <td>0.0</td>\n",
       "      <td>0.0</td>\n",
       "    </tr>\n",
       "    <tr>\n",
       "      <th>2</th>\n",
       "      <td>P0000000002</td>\n",
       "      <td>1904</td>\n",
       "      <td>C</td>\n",
       "      <td>20.32</td>\n",
       "      <td>NaN</td>\n",
       "      <td>604.570007</td>\n",
       "      <td>18.219999</td>\n",
       "      <td>14.350000</td>\n",
       "      <td>10.470000</td>\n",
       "      <td>225.165039</td>\n",
       "      <td>...</td>\n",
       "      <td>236.882950</td>\n",
       "      <td>4.872639</td>\n",
       "      <td>0.182168</td>\n",
       "      <td>500.638367</td>\n",
       "      <td>28.978306</td>\n",
       "      <td>4542.257324</td>\n",
       "      <td>0.002928</td>\n",
       "      <td>0.458972</td>\n",
       "      <td>0.0</td>\n",
       "      <td>0.0</td>\n",
       "    </tr>\n",
       "    <tr>\n",
       "      <th>3</th>\n",
       "      <td>P0000000003</td>\n",
       "      <td>1979</td>\n",
       "      <td>D</td>\n",
       "      <td>15.24</td>\n",
       "      <td>NaN</td>\n",
       "      <td>573.424011</td>\n",
       "      <td>17.671381</td>\n",
       "      <td>14.132636</td>\n",
       "      <td>10.586646</td>\n",
       "      <td>170.244339</td>\n",
       "      <td>...</td>\n",
       "      <td>321.886658</td>\n",
       "      <td>12.353504</td>\n",
       "      <td>0.480517</td>\n",
       "      <td>295.554504</td>\n",
       "      <td>41.983772</td>\n",
       "      <td>4521.720215</td>\n",
       "      <td>0.004242</td>\n",
       "      <td>0.456897</td>\n",
       "      <td>0.0</td>\n",
       "      <td>0.0</td>\n",
       "    </tr>\n",
       "    <tr>\n",
       "      <th>4</th>\n",
       "      <td>P0000000004</td>\n",
       "      <td>1987</td>\n",
       "      <td>D</td>\n",
       "      <td>20.32</td>\n",
       "      <td>NaN</td>\n",
       "      <td>583.429993</td>\n",
       "      <td>18.280001</td>\n",
       "      <td>14.350000</td>\n",
       "      <td>10.420000</td>\n",
       "      <td>171.034073</td>\n",
       "      <td>...</td>\n",
       "      <td>758.841431</td>\n",
       "      <td>25.052542</td>\n",
       "      <td>0.021532</td>\n",
       "      <td>778.687256</td>\n",
       "      <td>25.842377</td>\n",
       "      <td>4978.718262</td>\n",
       "      <td>0.002611</td>\n",
       "      <td>0.503074</td>\n",
       "      <td>0.0</td>\n",
       "      <td>0.0</td>\n",
       "    </tr>\n",
       "  </tbody>\n",
       "</table>\n",
       "<p>5 rows × 150 columns</p>\n",
       "</div>"
      ],
      "text/plain": [
       "       pipe_id  install_year material  diameter  break_year   env_dat_0  \\\n",
       "0  P0000000000          1985        D     20.32         NaN  623.542175   \n",
       "1  P0000000001          1934        C     15.24         NaN  644.830017   \n",
       "2  P0000000002          1904        C     20.32         NaN  604.570007   \n",
       "3  P0000000003          1979        D     15.24         NaN  573.424011   \n",
       "4  P0000000004          1987        D     20.32         NaN  583.429993   \n",
       "\n",
       "   env_dat_1  env_dat_2  env_dat_3   env_dat_4  ...  env_dat_135  env_dat_136  \\\n",
       "0  18.052843  14.161422  10.268579  159.662827  ...   554.479675    20.000000   \n",
       "1  17.790001  13.830000   9.870000  257.001221  ...   276.357605     9.200573   \n",
       "2  18.219999  14.350000  10.470000  225.165039  ...   236.882950     4.872639   \n",
       "3  17.671381  14.132636  10.586646  170.244339  ...   321.886658    12.353504   \n",
       "4  18.280001  14.350000  10.420000  171.034073  ...   758.841431    25.052542   \n",
       "\n",
       "   env_dat_137  env_dat_138  env_dat_139  env_dat_140  env_dat_141  \\\n",
       "0     0.000038   438.628143    27.000000  3085.786865     0.002728   \n",
       "1     0.304329   239.719299    32.571018  3188.292236     0.003291   \n",
       "2     0.182168   500.638367    28.978306  4542.257324     0.002928   \n",
       "3     0.480517   295.554504    41.983772  4521.720215     0.004242   \n",
       "4     0.021532   778.687256    25.842377  4978.718262     0.002611   \n",
       "\n",
       "   env_dat_142  env_dat_143  env_dat_144  \n",
       "0     0.311803          0.0          0.0  \n",
       "1     0.322161          0.0          0.0  \n",
       "2     0.458972          0.0          0.0  \n",
       "3     0.456897          0.0          0.0  \n",
       "4     0.503074          0.0          0.0  \n",
       "\n",
       "[5 rows x 150 columns]"
      ]
     },
     "metadata": {},
     "output_type": "display_data"
    }
   ],
   "source": [
    "df_pipe = pd.read_csv('./fracta_Dec3.csv')\n",
    "df_wk = df_pipe.copy()\n",
    "display(df_wk.head())"
   ]
  },
  {
   "cell_type": "markdown",
   "metadata": {},
   "source": [
    "- 全体で56774件のレコードが存在し、そのうち故障件数は3144\n",
    "- およそ5.5%程に故障年が存在する"
   ]
  },
  {
   "cell_type": "code",
   "execution_count": 80,
   "metadata": {},
   "outputs": [
    {
     "data": {
      "text/plain": [
       "56774"
      ]
     },
     "metadata": {},
     "output_type": "display_data"
    },
    {
     "data": {
      "text/plain": [
       "56774"
      ]
     },
     "metadata": {},
     "output_type": "display_data"
    },
    {
     "data": {
      "text/plain": [
       "1.0"
      ]
     },
     "metadata": {},
     "output_type": "display_data"
    }
   ],
   "source": [
    "total = len(df_wk)\n",
    "death = len(df_wk['break_year'].notna())\n",
    "birth = len(df_wk['install_year'].notna())\n",
    "\n",
    "display(total)\n",
    "display(death)\n",
    "display(death/total)"
   ]
  },
  {
   "cell_type": "code",
   "execution_count": 81,
   "metadata": {},
   "outputs": [],
   "source": [
    "df_wk = pd.get_dummies(df_wk, columns=['material'])"
   ]
  },
  {
   "cell_type": "code",
   "execution_count": 82,
   "metadata": {},
   "outputs": [],
   "source": [
    "# df_wk['pipe_id_int']=df_wk['pipe_id'].apply(lambda x: x[1:] if x[0] == 'P' else None).astype(int)"
   ]
  },
  {
   "cell_type": "markdown",
   "metadata": {},
   "source": [
    "故障したものについて年数を算出する"
   ]
  },
  {
   "cell_type": "code",
   "execution_count": 83,
   "metadata": {},
   "outputs": [
    {
     "data": {
      "text/plain": [
       "3144"
      ]
     },
     "metadata": {},
     "output_type": "display_data"
    },
    {
     "data": {
      "text/plain": [
       "<AxesSubplot:>"
      ]
     },
     "execution_count": 83,
     "metadata": {},
     "output_type": "execute_result"
    },
    {
     "data": {
      "image/png": "[encoded data removed]",
      "text/plain": [
       "<Figure size 432x288 with 1 Axes>"
      ]
     },
     "metadata": {
      "needs_background": "light"
     },
     "output_type": "display_data"
    }
   ],
   "source": [
    "df_break=df_wk[df_wk['break_year'].notna()].copy()\n",
    "# df_break['break_year'].hist()\n",
    "\n",
    "df_break['age'] = df_break['break_year'] - df_break['install_year']\n",
    "display(len(df_break))\n",
    "df_break['age'].hist()"
   ]
  },
  {
   "cell_type": "markdown",
   "metadata": {},
   "source": [
    "パイプの年齢の平均を可視化\n",
    "\n",
    "1980年から傾向に変化が見える"
   ]
  },
  {
   "cell_type": "code",
   "execution_count": 84,
   "metadata": {},
   "outputs": [
    {
     "data": {
      "text/plain": [
       "<AxesSubplot:>"
      ]
     },
     "execution_count": 84,
     "metadata": {},
     "output_type": "execute_result"
    },
    {
     "data": {
      "image/png": "[encoded data removed]",
      "text/plain": [
       "<Figure size 432x288 with 1 Axes>"
      ]
     },
     "metadata": {
      "needs_background": "light"
     },
     "output_type": "display_data"
    }
   ],
   "source": [
    "df_break['install_year'].hist()"
   ]
  },
  {
   "cell_type": "markdown",
   "metadata": {},
   "source": [
    "1980年以降に破損データの採取が始められたと思われる。"
   ]
  },
  {
   "cell_type": "code",
   "execution_count": 85,
   "metadata": {},
   "outputs": [
    {
     "data": {
      "image/png": "[encoded data removed]",
      "text/plain": [
       "<Figure size 432x288 with 1 Axes>"
      ]
     },
     "metadata": {
      "needs_background": "light"
     },
     "output_type": "display_data"
    }
   ],
   "source": [
    "plt.scatter(df_break['install_year'], df_break['break_year'], color = 'blue')         # 説明変数と目的変数のデータ点の散布図をプロット\n",
    "# plt.plot(df_break['install_year'], df_break['break_year'], color = 'red') # 回帰直線をプロット\n",
    "\n",
    "plt.title('設置年と故障年')\n",
    "plt.xlabel('install_year')\n",
    "plt.ylabel('break_year')\n",
    "plt.grid()\n",
    "\n",
    "plt.show()   "
   ]
  },
  {
   "cell_type": "markdown",
   "metadata": {},
   "source": [
    "1861年から2017年のデータが存在します。"
   ]
  },
  {
   "cell_type": "code",
   "execution_count": 160,
   "metadata": {},
   "outputs": [
    {
     "data": {
      "text/plain": [
       "<AxesSubplot:>"
      ]
     },
     "execution_count": 160,
     "metadata": {},
     "output_type": "execute_result"
    },
    {
     "data": {
      "image/png": "[encoded data removed]",
      "text/plain": [
       "<Figure size 432x288 with 1 Axes>"
      ]
     },
     "metadata": {
      "needs_background": "light"
     },
     "output_type": "display_data"
    }
   ],
   "source": [
    "df_alive['install_year'].hist()"
   ]
  },
  {
   "cell_type": "code",
   "execution_count": 87,
   "metadata": {},
   "outputs": [
    {
     "data": {
      "text/plain": [
       "pipe_id         238\n",
       "install_year    238\n",
       "diameter        236\n",
       "break_year      238\n",
       "env_dat_0       238\n",
       "               ... \n",
       "material_C      238\n",
       "material_D      238\n",
       "material_O      238\n",
       "material_S      238\n",
       "age             238\n",
       "Length: 155, dtype: int64"
      ]
     },
     "execution_count": 87,
     "metadata": {},
     "output_type": "execute_result"
    }
   ],
   "source": [
    "df_break[df_break['install_year'] > 1980].count()"
   ]
  },
  {
   "cell_type": "markdown",
   "metadata": {},
   "source": [
    "パイプの設置年毎にその年齢（故障までの年数）を可視化する\n",
    "\n",
    "1980年までは設置年と年齢を足すとおよそ1980"
   ]
  },
  {
   "cell_type": "code",
   "execution_count": 88,
   "metadata": {},
   "outputs": [
    {
     "data": {
      "text/plain": [
       "[<matplotlib.lines.Line2D at 0x7fdbd9628730>]"
      ]
     },
     "execution_count": 88,
     "metadata": {},
     "output_type": "execute_result"
    },
    {
     "data": {
      "image/png": "[encoded data removed]",
      "text/plain": [
       "<Figure size 432x288 with 1 Axes>"
      ]
     },
     "metadata": {
      "needs_background": "light"
     },
     "output_type": "display_data"
    }
   ],
   "source": [
    "df_stats = df_break.set_index('install_year')\n",
    "df_stats = df_stats.groupby('install_year').mean()\n",
    "plt.plot(df_stats['age'])"
   ]
  },
  {
   "cell_type": "code",
   "execution_count": 89,
   "metadata": {},
   "outputs": [
    {
     "data": {
      "text/plain": [
       "[<matplotlib.lines.Line2D at 0x7fdbd9598790>]"
      ]
     },
     "execution_count": 89,
     "metadata": {},
     "output_type": "execute_result"
    },
    {
     "data": {
      "image/png": "[encoded data removed]",
      "text/plain": [
       "<Figure size 432x288 with 1 Axes>"
      ]
     },
     "metadata": {
      "needs_background": "light"
     },
     "output_type": "display_data"
    }
   ],
   "source": [
    "plt.plot(df_stats['break_year'])"
   ]
  },
  {
   "cell_type": "code",
   "execution_count": 90,
   "metadata": {},
   "outputs": [
    {
     "data": {
      "text/plain": [
       "[<matplotlib.lines.Line2D at 0x7fdbd96ed3d0>]"
      ]
     },
     "execution_count": 90,
     "metadata": {},
     "output_type": "execute_result"
    },
    {
     "data": {
      "image/png": "[encoded data removed]",
      "text/plain": [
       "<Figure size 432x288 with 1 Axes>"
      ]
     },
     "metadata": {
      "needs_background": "light"
     },
     "output_type": "display_data"
    }
   ],
   "source": [
    "plt.plot(df_stats['diameter'])"
   ]
  },
  {
   "cell_type": "code",
   "execution_count": null,
   "metadata": {},
   "outputs": [],
   "source": []
  },
  {
   "cell_type": "markdown",
   "metadata": {},
   "source": [
    "正常なものについて年数を算出します。"
   ]
  },
  {
   "cell_type": "code",
   "execution_count": 91,
   "metadata": {},
   "outputs": [
    {
     "data": {
      "text/plain": [
       "53630"
      ]
     },
     "metadata": {},
     "output_type": "display_data"
    },
    {
     "data": {
      "text/plain": [
       "<AxesSubplot:>"
      ]
     },
     "execution_count": 91,
     "metadata": {},
     "output_type": "execute_result"
    },
    {
     "data": {
      "image/png": "[encoded data removed]",
      "text/plain": [
       "<Figure size 432x288 with 1 Axes>"
      ]
     },
     "metadata": {
      "needs_background": "light"
     },
     "output_type": "display_data"
    }
   ],
   "source": [
    "df_alive=df_wk[df_wk['break_year'].isna()]\n",
    "# df_break['break_year'].hist()\n",
    "\n",
    "df_alive['age'] = 2022 - df_alive['install_year']\n",
    "display(len(df_alive))\n",
    "df_alive['age'].hist()"
   ]
  },
  {
   "cell_type": "markdown",
   "metadata": {},
   "source": [
    "故障年は1980年から2016年までです"
   ]
  },
  {
   "cell_type": "code",
   "execution_count": 92,
   "metadata": {},
   "outputs": [
    {
     "data": {
      "text/plain": [
       "<AxesSubplot:>"
      ]
     },
     "execution_count": 92,
     "metadata": {},
     "output_type": "execute_result"
    },
    {
     "data": {
      "image/png": "[encoded data removed]",
      "text/plain": [
       "<Figure size 432x288 with 1 Axes>"
      ]
     },
     "metadata": {
      "needs_background": "light"
     },
     "output_type": "display_data"
    }
   ],
   "source": [
    "df_break['break_year'].hist()"
   ]
  },
  {
   "cell_type": "code",
   "execution_count": 93,
   "metadata": {},
   "outputs": [
    {
     "data": {
      "text/html": [
       "<div>\n",
       "<style scoped>\n",
       "    .dataframe tbody tr th:only-of-type {\n",
       "        vertical-align: middle;\n",
       "    }\n",
       "\n",
       "    .dataframe tbody tr th {\n",
       "        vertical-align: top;\n",
       "    }\n",
       "\n",
       "    .dataframe thead th {\n",
       "        text-align: right;\n",
       "    }\n",
       "</style>\n",
       "<table border=\"1\" class=\"dataframe\">\n",
       "  <thead>\n",
       "    <tr style=\"text-align: right;\">\n",
       "      <th></th>\n",
       "      <th>pipe_id</th>\n",
       "      <th>install_year</th>\n",
       "      <th>diameter</th>\n",
       "      <th>break_year</th>\n",
       "      <th>env_dat_0</th>\n",
       "      <th>env_dat_1</th>\n",
       "      <th>env_dat_2</th>\n",
       "      <th>env_dat_3</th>\n",
       "      <th>env_dat_4</th>\n",
       "      <th>env_dat_5</th>\n",
       "      <th>...</th>\n",
       "      <th>env_dat_141</th>\n",
       "      <th>env_dat_142</th>\n",
       "      <th>env_dat_143</th>\n",
       "      <th>env_dat_144</th>\n",
       "      <th>material_A</th>\n",
       "      <th>material_C</th>\n",
       "      <th>material_D</th>\n",
       "      <th>material_O</th>\n",
       "      <th>material_S</th>\n",
       "      <th>age</th>\n",
       "    </tr>\n",
       "  </thead>\n",
       "  <tbody>\n",
       "    <tr>\n",
       "      <th>41</th>\n",
       "      <td>P0000000041</td>\n",
       "      <td>1983</td>\n",
       "      <td>20.32</td>\n",
       "      <td>1990.0</td>\n",
       "      <td>568.710022</td>\n",
       "      <td>17.559999</td>\n",
       "      <td>14.100000</td>\n",
       "      <td>10.640000</td>\n",
       "      <td>0.023671</td>\n",
       "      <td>0.000005</td>\n",
       "      <td>...</td>\n",
       "      <td>0.000505</td>\n",
       "      <td>0.383964</td>\n",
       "      <td>0.0</td>\n",
       "      <td>0.0</td>\n",
       "      <td>0</td>\n",
       "      <td>0</td>\n",
       "      <td>1</td>\n",
       "      <td>0</td>\n",
       "      <td>0</td>\n",
       "      <td>7.0</td>\n",
       "    </tr>\n",
       "    <tr>\n",
       "      <th>52</th>\n",
       "      <td>P0000000052</td>\n",
       "      <td>1968</td>\n",
       "      <td>20.32</td>\n",
       "      <td>1995.0</td>\n",
       "      <td>580.960022</td>\n",
       "      <td>18.260000</td>\n",
       "      <td>14.340000</td>\n",
       "      <td>10.420000</td>\n",
       "      <td>299.776337</td>\n",
       "      <td>0.037117</td>\n",
       "      <td>...</td>\n",
       "      <td>0.001921</td>\n",
       "      <td>0.453269</td>\n",
       "      <td>0.0</td>\n",
       "      <td>1.0</td>\n",
       "      <td>0</td>\n",
       "      <td>0</td>\n",
       "      <td>1</td>\n",
       "      <td>0</td>\n",
       "      <td>0</td>\n",
       "      <td>27.0</td>\n",
       "    </tr>\n",
       "    <tr>\n",
       "      <th>63</th>\n",
       "      <td>P0000000063</td>\n",
       "      <td>1991</td>\n",
       "      <td>10.16</td>\n",
       "      <td>2003.0</td>\n",
       "      <td>615.322571</td>\n",
       "      <td>18.112228</td>\n",
       "      <td>14.210916</td>\n",
       "      <td>10.309492</td>\n",
       "      <td>105.444649</td>\n",
       "      <td>0.010701</td>\n",
       "      <td>...</td>\n",
       "      <td>0.002991</td>\n",
       "      <td>0.310529</td>\n",
       "      <td>0.0</td>\n",
       "      <td>0.0</td>\n",
       "      <td>0</td>\n",
       "      <td>0</td>\n",
       "      <td>1</td>\n",
       "      <td>0</td>\n",
       "      <td>0</td>\n",
       "      <td>12.0</td>\n",
       "    </tr>\n",
       "    <tr>\n",
       "      <th>68</th>\n",
       "      <td>P0000000068</td>\n",
       "      <td>1924</td>\n",
       "      <td>20.32</td>\n",
       "      <td>2015.0</td>\n",
       "      <td>610.489990</td>\n",
       "      <td>17.080000</td>\n",
       "      <td>13.870000</td>\n",
       "      <td>10.650000</td>\n",
       "      <td>113.146187</td>\n",
       "      <td>0.007912</td>\n",
       "      <td>...</td>\n",
       "      <td>0.002717</td>\n",
       "      <td>0.536662</td>\n",
       "      <td>0.0</td>\n",
       "      <td>0.0</td>\n",
       "      <td>0</td>\n",
       "      <td>1</td>\n",
       "      <td>0</td>\n",
       "      <td>0</td>\n",
       "      <td>0</td>\n",
       "      <td>91.0</td>\n",
       "    </tr>\n",
       "    <tr>\n",
       "      <th>87</th>\n",
       "      <td>P0000000087</td>\n",
       "      <td>1947</td>\n",
       "      <td>15.24</td>\n",
       "      <td>1995.0</td>\n",
       "      <td>644.830017</td>\n",
       "      <td>17.790001</td>\n",
       "      <td>13.830000</td>\n",
       "      <td>9.870000</td>\n",
       "      <td>86.456589</td>\n",
       "      <td>0.006315</td>\n",
       "      <td>...</td>\n",
       "      <td>0.002754</td>\n",
       "      <td>0.321194</td>\n",
       "      <td>0.0</td>\n",
       "      <td>0.0</td>\n",
       "      <td>0</td>\n",
       "      <td>1</td>\n",
       "      <td>0</td>\n",
       "      <td>0</td>\n",
       "      <td>0</td>\n",
       "      <td>48.0</td>\n",
       "    </tr>\n",
       "  </tbody>\n",
       "</table>\n",
       "<p>5 rows × 155 columns</p>\n",
       "</div>"
      ],
      "text/plain": [
       "        pipe_id  install_year  diameter  break_year   env_dat_0  env_dat_1  \\\n",
       "41  P0000000041          1983     20.32      1990.0  568.710022  17.559999   \n",
       "52  P0000000052          1968     20.32      1995.0  580.960022  18.260000   \n",
       "63  P0000000063          1991     10.16      2003.0  615.322571  18.112228   \n",
       "68  P0000000068          1924     20.32      2015.0  610.489990  17.080000   \n",
       "87  P0000000087          1947     15.24      1995.0  644.830017  17.790001   \n",
       "\n",
       "    env_dat_2  env_dat_3   env_dat_4  env_dat_5  ...  env_dat_141  \\\n",
       "41  14.100000  10.640000    0.023671   0.000005  ...     0.000505   \n",
       "52  14.340000  10.420000  299.776337   0.037117  ...     0.001921   \n",
       "63  14.210916  10.309492  105.444649   0.010701  ...     0.002991   \n",
       "68  13.870000  10.650000  113.146187   0.007912  ...     0.002717   \n",
       "87  13.830000   9.870000   86.456589   0.006315  ...     0.002754   \n",
       "\n",
       "    env_dat_142  env_dat_143  env_dat_144  material_A  material_C  material_D  \\\n",
       "41     0.383964          0.0          0.0           0           0           1   \n",
       "52     0.453269          0.0          1.0           0           0           1   \n",
       "63     0.310529          0.0          0.0           0           0           1   \n",
       "68     0.536662          0.0          0.0           0           1           0   \n",
       "87     0.321194          0.0          0.0           0           1           0   \n",
       "\n",
       "    material_O  material_S   age  \n",
       "41           0           0   7.0  \n",
       "52           0           0  27.0  \n",
       "63           0           0  12.0  \n",
       "68           0           0  91.0  \n",
       "87           0           0  48.0  \n",
       "\n",
       "[5 rows x 155 columns]"
      ]
     },
     "execution_count": 93,
     "metadata": {},
     "output_type": "execute_result"
    }
   ],
   "source": [
    "df_break.head()"
   ]
  },
  {
   "cell_type": "code",
   "execution_count": 94,
   "metadata": {},
   "outputs": [
    {
     "data": {
      "text/html": [
       "<div>\n",
       "<style scoped>\n",
       "    .dataframe tbody tr th:only-of-type {\n",
       "        vertical-align: middle;\n",
       "    }\n",
       "\n",
       "    .dataframe tbody tr th {\n",
       "        vertical-align: top;\n",
       "    }\n",
       "\n",
       "    .dataframe thead th {\n",
       "        text-align: right;\n",
       "    }\n",
       "</style>\n",
       "<table border=\"1\" class=\"dataframe\">\n",
       "  <thead>\n",
       "    <tr style=\"text-align: right;\">\n",
       "      <th></th>\n",
       "      <th>pipe_id</th>\n",
       "      <th>install_year</th>\n",
       "      <th>diameter</th>\n",
       "      <th>break_year</th>\n",
       "      <th>env_dat_0</th>\n",
       "      <th>env_dat_1</th>\n",
       "      <th>env_dat_2</th>\n",
       "      <th>env_dat_3</th>\n",
       "      <th>env_dat_4</th>\n",
       "      <th>env_dat_5</th>\n",
       "      <th>...</th>\n",
       "      <th>env_dat_141</th>\n",
       "      <th>env_dat_142</th>\n",
       "      <th>env_dat_143</th>\n",
       "      <th>env_dat_144</th>\n",
       "      <th>material_A</th>\n",
       "      <th>material_C</th>\n",
       "      <th>material_D</th>\n",
       "      <th>material_O</th>\n",
       "      <th>material_S</th>\n",
       "      <th>age</th>\n",
       "    </tr>\n",
       "  </thead>\n",
       "  <tbody>\n",
       "    <tr>\n",
       "      <th>41</th>\n",
       "      <td>P0000000041</td>\n",
       "      <td>1983</td>\n",
       "      <td>20.32</td>\n",
       "      <td>1990.0</td>\n",
       "      <td>568.710022</td>\n",
       "      <td>17.559999</td>\n",
       "      <td>14.100000</td>\n",
       "      <td>10.640000</td>\n",
       "      <td>0.023671</td>\n",
       "      <td>0.000005</td>\n",
       "      <td>...</td>\n",
       "      <td>0.000505</td>\n",
       "      <td>0.383964</td>\n",
       "      <td>0.0</td>\n",
       "      <td>0.0</td>\n",
       "      <td>0</td>\n",
       "      <td>0</td>\n",
       "      <td>1</td>\n",
       "      <td>0</td>\n",
       "      <td>0</td>\n",
       "      <td>7.0</td>\n",
       "    </tr>\n",
       "    <tr>\n",
       "      <th>52</th>\n",
       "      <td>P0000000052</td>\n",
       "      <td>1968</td>\n",
       "      <td>20.32</td>\n",
       "      <td>1995.0</td>\n",
       "      <td>580.960022</td>\n",
       "      <td>18.260000</td>\n",
       "      <td>14.340000</td>\n",
       "      <td>10.420000</td>\n",
       "      <td>299.776337</td>\n",
       "      <td>0.037117</td>\n",
       "      <td>...</td>\n",
       "      <td>0.001921</td>\n",
       "      <td>0.453269</td>\n",
       "      <td>0.0</td>\n",
       "      <td>1.0</td>\n",
       "      <td>0</td>\n",
       "      <td>0</td>\n",
       "      <td>1</td>\n",
       "      <td>0</td>\n",
       "      <td>0</td>\n",
       "      <td>27.0</td>\n",
       "    </tr>\n",
       "    <tr>\n",
       "      <th>63</th>\n",
       "      <td>P0000000063</td>\n",
       "      <td>1991</td>\n",
       "      <td>10.16</td>\n",
       "      <td>2003.0</td>\n",
       "      <td>615.322571</td>\n",
       "      <td>18.112228</td>\n",
       "      <td>14.210916</td>\n",
       "      <td>10.309492</td>\n",
       "      <td>105.444649</td>\n",
       "      <td>0.010701</td>\n",
       "      <td>...</td>\n",
       "      <td>0.002991</td>\n",
       "      <td>0.310529</td>\n",
       "      <td>0.0</td>\n",
       "      <td>0.0</td>\n",
       "      <td>0</td>\n",
       "      <td>0</td>\n",
       "      <td>1</td>\n",
       "      <td>0</td>\n",
       "      <td>0</td>\n",
       "      <td>12.0</td>\n",
       "    </tr>\n",
       "    <tr>\n",
       "      <th>68</th>\n",
       "      <td>P0000000068</td>\n",
       "      <td>1924</td>\n",
       "      <td>20.32</td>\n",
       "      <td>2015.0</td>\n",
       "      <td>610.489990</td>\n",
       "      <td>17.080000</td>\n",
       "      <td>13.870000</td>\n",
       "      <td>10.650000</td>\n",
       "      <td>113.146187</td>\n",
       "      <td>0.007912</td>\n",
       "      <td>...</td>\n",
       "      <td>0.002717</td>\n",
       "      <td>0.536662</td>\n",
       "      <td>0.0</td>\n",
       "      <td>0.0</td>\n",
       "      <td>0</td>\n",
       "      <td>1</td>\n",
       "      <td>0</td>\n",
       "      <td>0</td>\n",
       "      <td>0</td>\n",
       "      <td>91.0</td>\n",
       "    </tr>\n",
       "    <tr>\n",
       "      <th>87</th>\n",
       "      <td>P0000000087</td>\n",
       "      <td>1947</td>\n",
       "      <td>15.24</td>\n",
       "      <td>1995.0</td>\n",
       "      <td>644.830017</td>\n",
       "      <td>17.790001</td>\n",
       "      <td>13.830000</td>\n",
       "      <td>9.870000</td>\n",
       "      <td>86.456589</td>\n",
       "      <td>0.006315</td>\n",
       "      <td>...</td>\n",
       "      <td>0.002754</td>\n",
       "      <td>0.321194</td>\n",
       "      <td>0.0</td>\n",
       "      <td>0.0</td>\n",
       "      <td>0</td>\n",
       "      <td>1</td>\n",
       "      <td>0</td>\n",
       "      <td>0</td>\n",
       "      <td>0</td>\n",
       "      <td>48.0</td>\n",
       "    </tr>\n",
       "  </tbody>\n",
       "</table>\n",
       "<p>5 rows × 155 columns</p>\n",
       "</div>"
      ],
      "text/plain": [
       "        pipe_id  install_year  diameter  break_year   env_dat_0  env_dat_1  \\\n",
       "41  P0000000041          1983     20.32      1990.0  568.710022  17.559999   \n",
       "52  P0000000052          1968     20.32      1995.0  580.960022  18.260000   \n",
       "63  P0000000063          1991     10.16      2003.0  615.322571  18.112228   \n",
       "68  P0000000068          1924     20.32      2015.0  610.489990  17.080000   \n",
       "87  P0000000087          1947     15.24      1995.0  644.830017  17.790001   \n",
       "\n",
       "    env_dat_2  env_dat_3   env_dat_4  env_dat_5  ...  env_dat_141  \\\n",
       "41  14.100000  10.640000    0.023671   0.000005  ...     0.000505   \n",
       "52  14.340000  10.420000  299.776337   0.037117  ...     0.001921   \n",
       "63  14.210916  10.309492  105.444649   0.010701  ...     0.002991   \n",
       "68  13.870000  10.650000  113.146187   0.007912  ...     0.002717   \n",
       "87  13.830000   9.870000   86.456589   0.006315  ...     0.002754   \n",
       "\n",
       "    env_dat_142  env_dat_143  env_dat_144  material_A  material_C  material_D  \\\n",
       "41     0.383964          0.0          0.0           0           0           1   \n",
       "52     0.453269          0.0          1.0           0           0           1   \n",
       "63     0.310529          0.0          0.0           0           0           1   \n",
       "68     0.536662          0.0          0.0           0           1           0   \n",
       "87     0.321194          0.0          0.0           0           1           0   \n",
       "\n",
       "    material_O  material_S   age  \n",
       "41           0           0   7.0  \n",
       "52           0           0  27.0  \n",
       "63           0           0  12.0  \n",
       "68           0           0  91.0  \n",
       "87           0           0  48.0  \n",
       "\n",
       "[5 rows x 155 columns]"
      ]
     },
     "execution_count": 94,
     "metadata": {},
     "output_type": "execute_result"
    }
   ],
   "source": [
    "df_break.head()"
   ]
  },
  {
   "cell_type": "code",
   "execution_count": 95,
   "metadata": {},
   "outputs": [],
   "source": [
    "# import math\n",
    "# def draw_graph(df_product):\n",
    "#     cols = 5\n",
    "#     nums = 145\n",
    "#     rows = math.ceil(nums / cols)\n",
    "#     fig = plt.figure(facecolor='white', figsize=(10 * cols, 10 * rows))\n",
    "    \n",
    "#     # for i, (name, code) in enumerate(zip(df_product['製品名'], df_product['製品コード'])):\n",
    "#     for i in range(nums):\n",
    "#         ax = fig.add_subplot(rows, cols, i + 1)\n",
    "#         label = 'env_dat_'+str(i)\n",
    "#         df = df_product[label]\n",
    "#         ax.hist(df)\n",
    "#         plt.xticks(rotation=90)\n",
    "#         ax.set_title(f'{label}')\n",
    "#         ax.set_ylabel(f'{label}')\n",
    "#         # ax.set_xlabel('受注月')\n",
    "#     fig.tight_layout()\n",
    "#     fig.show()\n",
    "#     fig.savefig(f'{label}.png')"
   ]
  },
  {
   "cell_type": "code",
   "execution_count": 96,
   "metadata": {},
   "outputs": [],
   "source": [
    "# draw_graph(df_break)"
   ]
  },
  {
   "cell_type": "code",
   "execution_count": 97,
   "metadata": {},
   "outputs": [
    {
     "data": {
      "text/plain": [
       "<AxesSubplot:>"
      ]
     },
     "execution_count": 97,
     "metadata": {},
     "output_type": "execute_result"
    },
    {
     "data": {
      "image/png": "[encoded data removed]",
      "text/plain": [
       "<Figure size 432x288 with 1 Axes>"
      ]
     },
     "metadata": {
      "needs_background": "light"
     },
     "output_type": "display_data"
    }
   ],
   "source": [
    "df_break['env_dat_66'].plot()"
   ]
  },
  {
   "cell_type": "markdown",
   "metadata": {},
   "source": [
    "特徴量エンジニアリング"
   ]
  },
  {
   "cell_type": "code",
   "execution_count": 98,
   "metadata": {},
   "outputs": [],
   "source": [
    "X = df_break.drop(['age', 'pipe_id','break_year'], axis=1)\n",
    "y = df_break['age']"
   ]
  },
  {
   "cell_type": "code",
   "execution_count": 99,
   "metadata": {},
   "outputs": [],
   "source": [
    "A_install_year = df_alive['install_year']\n",
    "\n",
    "drop_list = ['env_dat_31',\n",
    "    'env_dat_40',\n",
    "    'env_dat_48',\n",
    "    'env_dat_80',\n",
    "    'env_dat_99',\n",
    "    'env_dat_123',\n",
    "    'env_dat_126',\n",
    "    'env_dat_127',\n",
    "    'env_dat_27',\n",
    "    'env_dat_45',\n",
    "    'env_dat_49',\n",
    "    'env_dat_51',\n",
    "    'env_dat_77',    \n",
    "    'env_dat_78',\n",
    "    'env_dat_124',\n",
    "    'env_dat_36',\n",
    "    'env_dat_130', \n",
    "    'env_dat_55',\n",
    "    'env_dat_118',\n",
    "    'env_dat_35',\n",
    "    'env_dat_76',\n",
    "    'env_dat_28',\n",
    "    'env_dat_52',\n",
    "    'env_dat_56',\n",
    "    'env_dat_125',\n",
    "    'env_dat_75',\n",
    "    'env_dat_79',\n",
    "    'env_dat_128',\n",
    "    'env_dat_46',\n",
    "    'env_dat_37', \n",
    "    'env_dat_44', \n",
    "    'env_dat_58', \n",
    "    'env_dat_33', \n",
    "    'env_dat_43', \n",
    "    'env_dat_47', \n",
    "    'env_dat_50', \n",
    "    'env_dat_96', \n",
    "    'env_dat_84', \n",
    "    'env_dat_17', \n",
    "    'env_dat_90', \n",
    "    'env_dat_30', \n",
    "    'env_dat_83', \n",
    "    'env_dat_42', \n",
    "    'env_dat_53', \n",
    "    'env_dat_117', \n",
    "    'env_dat_91', \n",
    "    'env_dat_143', \n",
    "    'env_dat_85', \n",
    "    'env_dat_81', \n",
    "    'env_dat_100',  \n",
    "    'env_dat_100',    \n",
    "    'age', \n",
    "    'pipe_id',\n",
    "    'break_year',\n",
    "    'install_year',\n",
    "    ]\n",
    "\n",
    "X = df_break.drop(drop_list, axis=1)\n",
    "A = df_alive.drop(drop_list, axis=1)"
   ]
  },
  {
   "cell_type": "code",
   "execution_count": 100,
   "metadata": {},
   "outputs": [],
   "source": [
    "from sklearn.model_selection import train_test_split\n",
    "X_train, X_test, y_train, y_test = train_test_split(X, y, test_size=0.33, random_state=42)"
   ]
  },
  {
   "cell_type": "code",
   "execution_count": 101,
   "metadata": {},
   "outputs": [
    {
     "name": "stdout",
     "output_type": "stream",
     "text": [
      "[LightGBM] [Warning] min_data_in_leaf is set=5, min_child_samples=5 will be ignored. Current value: min_data_in_leaf=5\n",
      "[LightGBM] [Warning] min_data_in_leaf is set=5, min_child_samples=5 will be ignored. Current value: min_data_in_leaf=5\n",
      "[LightGBM] [Warning] Auto-choosing row-wise multi-threading, the overhead of testing was 0.179817 seconds.\n",
      "You can set `force_row_wise=true` to remove the overhead.\n",
      "And if memory is not enough, you can set `force_col_wise=true`.\n",
      "[LightGBM] [Info] Total Bins 13468\n",
      "[LightGBM] [Info] Number of data points in the train set: 2106, number of used features: 86\n",
      "[LightGBM] [Warning] min_data_in_leaf is set=5, min_child_samples=5 will be ignored. Current value: min_data_in_leaf=5\n",
      "[LightGBM] [Info] Start training from score 56.705128\n",
      "Training until validation scores don't improve for 3000 rounds\n",
      "Did not meet early stopping. Best iteration is:\n",
      "[84]\tvalid_0's rmse: 18.973\n",
      "  Params: \n",
      "    objective: regression\n",
      "    metric: rmse\n",
      "    random_seed: 0\n",
      "    feature_pre_filter: False\n",
      "    lambda_l1: 0.01\n",
      "    lambda_l2: 0.04\n",
      "    num_leaves: 50\n",
      "    feature_fraction: 0.6\n",
      "    bagging_fraction: 0.8\n",
      "    bagging_freq: 10\n",
      "    min_data_in_leaf: 5\n",
      "    min_child_samples: 5\n",
      "    num_iterations: 1000\n",
      "    early_stopping_round: 3000\n",
      "CPU times: user 40 s, sys: 1.31 s, total: 41.3 s\n",
      "Wall time: 10.6 s\n"
     ]
    },
    {
     "data": {
      "text/plain": [
       "<AxesSubplot:title={'center':'Feature importance'}, xlabel='Feature importance', ylabel='Features'>"
      ]
     },
     "execution_count": 101,
     "metadata": {},
     "output_type": "execute_result"
    },
    {
     "data": {
      "image/png": "[encoded data removed]",
      "text/plain": [
       "<Figure size 432x1080 with 1 Axes>"
      ]
     },
     "metadata": {
      "needs_background": "light"
     },
     "output_type": "display_data"
    }
   ],
   "source": [
    "%%time\n",
    "### optunaつかう\n",
    "# LightGBM用のデータセットに変換\n",
    "# import optuna.integration.lightgbm as lgb_o\n",
    "import lightgbm as lgb_o\n",
    "from lightgbm import Dataset\n",
    "\n",
    "train = Dataset(X_train, y_train)\n",
    "val = Dataset(X_test, y_test)\n",
    "\n",
    "# train = xgb.DMatrix(X_train, y_train)\n",
    "# val = xgb.DMatrix(X_test, y_test)\n",
    "\n",
    "# ハイパーパラメータサーチ&モデル構築\n",
    "params = {\n",
    "        'objective': 'regression',\n",
    "        'metric': 'rmse',\n",
    "        'random_seed': 0,\n",
    "        'feature_pre_filter': False,\n",
    "        'lambda_l1': 0.01,\n",
    "        'lambda_l2': 0.04,\n",
    "        'num_leaves': 50,\n",
    "        'feature_fraction': 0.6,\n",
    "        'bagging_fraction': 0.8,\n",
    "        'bagging_freq': 10,\n",
    "        'min_data_in_leaf': 5,\n",
    "        'min_child_samples': 5,\n",
    "        'num_iterations': 1000,\n",
    "        'early_stopping_round': 3000    \n",
    "}\n",
    "\n",
    "gbm_o = lgb_o.train(params,\n",
    "                    train,\n",
    "                    valid_sets=val,\n",
    "                    early_stopping_rounds=3000,\n",
    "                    verbose_eval=20000)\n",
    "\n",
    "# gbm_o = xgb.train(params,\n",
    "#                     train,\n",
    "#                     # valid_sets=val,\n",
    "#                     early_stopping_rounds=3000,\n",
    "#                     verbose_eval=20000)                    \n",
    "\n",
    "# ベストパラメータの取得\n",
    "\n",
    "\n",
    "best_params = gbm_o.params\n",
    "print(\"  Params: \")\n",
    "for key, value in best_params.items():\n",
    "    print(\"    {}: {}\".format(key, value))\n",
    "\n",
    "import lightgbm as lgb\n",
    "\n",
    "## 新たにlightGBMで全trainデータ再学習させる場合 ##\n",
    "# params_best = dict(best_params.items())\n",
    "\n",
    "# gbm = lgb.LGBMRegressor(**params_best,random_state=0)\n",
    "\n",
    "# gbm.fit(train_X, train_y)\n",
    "# y_pred_train = gbm.predict(train_X, num_iteration=gbm_o.best_iteration)\n",
    "# y_pred_test = gbm.predict(test_X, num_iteration=gbm_o.best_iteration)\n",
    "###################################################\n",
    "\n",
    "## lightGBM-optunaで学習した(train_test_splitでval有)モデルで推論する場合\n",
    "y_pred_train = gbm_o.predict(X_train, num_iteration=gbm_o.best_iteration)\n",
    "y_pred_test = gbm_o.predict(X_test, num_iteration=gbm_o.best_iteration)\n",
    "############################################################################\n",
    "\n",
    "# # モデルのインスタンスの作成\n",
    "# model = lgb.LGBMRegressor()\n",
    "\n",
    "\n",
    "# model.fit(train_X, train_y) # モデルの学習\n",
    "# y_pred_train = model.predict(train_X)\n",
    "\n",
    "\n",
    "# テストデータの予測\n",
    "# y_pred_test = model.predict(test_X)\n",
    "\n",
    "from sklearn.metrics import mean_absolute_error, mean_squared_error, mean_absolute_percentage_error\n",
    "\n",
    "# print('MAPE: {:.2f}%'.format(mean_absolute_percentage_error(test_y, y_pred_test)*100))\n",
    "# print('RMSE: {:.2f}'.format(np.sqrt(mean_squared_error(test_y, y_pred_test))))\n",
    "# print('MAE: {:.2f}'.format(mean_absolute_error(test_y, y_pred_test)))\n",
    "lgb.plot_importance(gbm_o, figsize=(6, 15))"
   ]
  },
  {
   "cell_type": "code",
   "execution_count": 102,
   "metadata": {},
   "outputs": [
    {
     "data": {
      "text/html": [
       "<div>\n",
       "<style scoped>\n",
       "    .dataframe tbody tr th:only-of-type {\n",
       "        vertical-align: middle;\n",
       "    }\n",
       "\n",
       "    .dataframe tbody tr th {\n",
       "        vertical-align: top;\n",
       "    }\n",
       "\n",
       "    .dataframe thead th {\n",
       "        text-align: right;\n",
       "    }\n",
       "</style>\n",
       "<table border=\"1\" class=\"dataframe\">\n",
       "  <thead>\n",
       "    <tr style=\"text-align: right;\">\n",
       "      <th></th>\n",
       "      <th>R2</th>\n",
       "      <th>MAE</th>\n",
       "      <th>MSE</th>\n",
       "      <th>RMSE</th>\n",
       "    </tr>\n",
       "  </thead>\n",
       "  <tbody>\n",
       "    <tr>\n",
       "      <th>scores</th>\n",
       "      <td>0.547806</td>\n",
       "      <td>14.638708</td>\n",
       "      <td>359.975994</td>\n",
       "      <td>18.973033</td>\n",
       "    </tr>\n",
       "  </tbody>\n",
       "</table>\n",
       "</div>"
      ],
      "text/plain": [
       "              R2        MAE         MSE       RMSE\n",
       "scores  0.547806  14.638708  359.975994  18.973033"
      ]
     },
     "metadata": {},
     "output_type": "display_data"
    }
   ],
   "source": [
    "# 評価指標\n",
    "from sklearn.metrics import r2_score\n",
    "from sklearn.metrics import mean_absolute_error\n",
    "from sklearn.metrics import mean_squared_error\n",
    "\n",
    "# 評価\n",
    "def calculate_scores(true, pred):\n",
    "    \"\"\"全ての評価指標を計算する\n",
    "\n",
    "    Parameters\n",
    "    ----------\n",
    "    true (np.array)       : 実測値\n",
    "    pred (np.array)       : 予測値\n",
    "\n",
    "    Returns\n",
    "    -------\n",
    "    scores (pd.DataFrame) : 各評価指標を纏めた結果\n",
    "\n",
    "    \"\"\"\n",
    "    scores = {}\n",
    "    scores = pd.DataFrame({'R2': r2_score(true, pred),\n",
    "                          'MAE': mean_absolute_error(true, pred),\n",
    "                          'MSE': mean_squared_error(true, pred),\n",
    "                          'RMSE': np.sqrt(mean_squared_error(true, pred))},\n",
    "                           index = ['scores'])\n",
    "    return scores\n",
    "\n",
    "scores = calculate_scores(y_test, y_pred_test)\n",
    "display(scores)"
   ]
  },
  {
   "cell_type": "code",
   "execution_count": 103,
   "metadata": {},
   "outputs": [
    {
     "data": {
      "text/plain": [
       "<AxesSubplot:title={'center':'Feature importance'}, xlabel='Feature importance', ylabel='Features'>"
      ]
     },
     "execution_count": 103,
     "metadata": {},
     "output_type": "execute_result"
    },
    {
     "data": {
      "image/png": "[encoded data removed]",
      "text/plain": [
       "<Figure size 432x1080 with 1 Axes>"
      ]
     },
     "metadata": {
      "needs_background": "light"
     },
     "output_type": "display_data"
    }
   ],
   "source": [
    "from sklearn.metrics import mean_absolute_error, mean_squared_error, mean_absolute_percentage_error\n",
    "\n",
    "# print('MAPE: {:.2f}%'.format(mean_absolute_percentage_error(test_y, y_pred_test)*100))\n",
    "# print('RMSE: {:.2f}'.format(np.sqrt(mean_squared_error(test_y, y_pred_test))))\n",
    "# print('MAE: {:.2f}'.format(mean_absolute_error(test_y, y_pred_test)))\n",
    "lgb.plot_importance(gbm_o, figsize=(6, 15))"
   ]
  },
  {
   "cell_type": "code",
   "execution_count": 104,
   "metadata": {},
   "outputs": [],
   "source": [
    "y_pred_train = gbm_o.predict(X_train, num_iteration=gbm_o.best_iteration)\n",
    "y_pred_test = gbm_o.predict(X_test, num_iteration=gbm_o.best_iteration)"
   ]
  },
  {
   "cell_type": "code",
   "execution_count": 105,
   "metadata": {},
   "outputs": [
    {
     "data": {
      "text/plain": [
       "2106"
      ]
     },
     "metadata": {},
     "output_type": "display_data"
    },
    {
     "data": {
      "text/plain": [
       "(array([106., 140., 195., 329., 536., 476., 137., 106.,  65.,  16.]),\n",
       " array([ -3.37896406,  10.14265165,  23.66426736,  37.18588306,\n",
       "         50.70749877,  64.22911448,  77.75073019,  91.2723459 ,\n",
       "        104.79396161, 118.31557731, 131.83719302]),\n",
       " <BarContainer object of 10 artists>)"
      ]
     },
     "execution_count": 105,
     "metadata": {},
     "output_type": "execute_result"
    },
    {
     "data": {
      "image/png": "[encoded data removed]",
      "text/plain": [
       "<Figure size 432x288 with 1 Axes>"
      ]
     },
     "metadata": {
      "needs_background": "light"
     },
     "output_type": "display_data"
    }
   ],
   "source": [
    "display(len(y_pred_train))\n",
    "plt.hist(y_pred_train)"
   ]
  },
  {
   "cell_type": "code",
   "execution_count": 106,
   "metadata": {},
   "outputs": [
    {
     "data": {
      "text/plain": [
       "<AxesSubplot:>"
      ]
     },
     "execution_count": 106,
     "metadata": {},
     "output_type": "execute_result"
    },
    {
     "data": {
      "image/png": "[encoded data removed]",
      "text/plain": [
       "<Figure size 432x288 with 1 Axes>"
      ]
     },
     "metadata": {
      "needs_background": "light"
     },
     "output_type": "display_data"
    }
   ],
   "source": [
    "y_train.hist()"
   ]
  },
  {
   "cell_type": "code",
   "execution_count": 107,
   "metadata": {},
   "outputs": [
    {
     "data": {
      "text/plain": [
       "1038"
      ]
     },
     "metadata": {},
     "output_type": "display_data"
    },
    {
     "data": {
      "text/plain": [
       "(array([ 17., 103.,  48., 110., 224., 322., 137.,  47.,  22.,   8.]),\n",
       " array([ -2.23478869,  10.26595931,  22.76670731,  35.26745532,\n",
       "         47.76820332,  60.26895132,  72.76969932,  85.27044733,\n",
       "         97.77119533, 110.27194333, 122.77269133]),\n",
       " <BarContainer object of 10 artists>)"
      ]
     },
     "execution_count": 107,
     "metadata": {},
     "output_type": "execute_result"
    },
    {
     "data": {
      "image/png": "[encoded data removed]",
      "text/plain": [
       "<Figure size 432x288 with 1 Axes>"
      ]
     },
     "metadata": {
      "needs_background": "light"
     },
     "output_type": "display_data"
    }
   ],
   "source": [
    "display(len(y_pred_test))\n",
    "plt.hist(y_pred_test)"
   ]
  },
  {
   "cell_type": "code",
   "execution_count": 108,
   "metadata": {},
   "outputs": [
    {
     "data": {
      "text/plain": [
       "<AxesSubplot:>"
      ]
     },
     "execution_count": 108,
     "metadata": {},
     "output_type": "execute_result"
    },
    {
     "data": {
      "image/png": "[encoded data removed]",
      "text/plain": [
       "<Figure size 432x288 with 1 Axes>"
      ]
     },
     "metadata": {
      "needs_background": "light"
     },
     "output_type": "display_data"
    }
   ],
   "source": [
    "y_test.hist()"
   ]
  },
  {
   "cell_type": "code",
   "execution_count": 109,
   "metadata": {},
   "outputs": [
    {
     "data": {
      "image/png": "[encoded data removed]",
      "text/plain": [
       "<Figure size 432x288 with 1 Axes>"
      ]
     },
     "metadata": {
      "needs_background": "light"
     },
     "output_type": "display_data"
    }
   ],
   "source": [
    "from sklearn import linear_model\n",
    "lr = linear_model.LinearRegression()\n",
    "\n",
    "y_list_test = y_test.to_numpy()\n",
    "lr.fit(y_list_test.reshape(-1, 1), y_pred_test)\n",
    "\n",
    "plt.scatter(y_list_test, y_pred_test, color = 'blue')         # 説明変数と目的変数のデータ点の散布図をプロット\n",
    "plt.plot(y_list_test, lr.predict(y_list_test.reshape(-1, 1)), color = 'red') # 回帰直線をプロット\n",
    "\n",
    "plt.title('Regression Line')\n",
    "plt.xlabel('Age Actual')\n",
    "plt.ylabel('Age Predict')\n",
    "plt.grid()\n",
    "\n",
    "plt.show()          "
   ]
  },
  {
   "cell_type": "markdown",
   "metadata": {},
   "source": [
    "### 現在生存するデータ寿命を予測する"
   ]
  },
  {
   "cell_type": "code",
   "execution_count": 110,
   "metadata": {},
   "outputs": [
    {
     "data": {
      "text/html": [
       "<div>\n",
       "<style scoped>\n",
       "    .dataframe tbody tr th:only-of-type {\n",
       "        vertical-align: middle;\n",
       "    }\n",
       "\n",
       "    .dataframe tbody tr th {\n",
       "        vertical-align: top;\n",
       "    }\n",
       "\n",
       "    .dataframe thead th {\n",
       "        text-align: right;\n",
       "    }\n",
       "</style>\n",
       "<table border=\"1\" class=\"dataframe\">\n",
       "  <thead>\n",
       "    <tr style=\"text-align: right;\">\n",
       "      <th></th>\n",
       "      <th>diameter</th>\n",
       "      <th>env_dat_0</th>\n",
       "      <th>env_dat_1</th>\n",
       "      <th>env_dat_2</th>\n",
       "      <th>env_dat_3</th>\n",
       "      <th>env_dat_4</th>\n",
       "      <th>env_dat_5</th>\n",
       "      <th>env_dat_6</th>\n",
       "      <th>env_dat_7</th>\n",
       "      <th>env_dat_8</th>\n",
       "      <th>...</th>\n",
       "      <th>env_dat_139</th>\n",
       "      <th>env_dat_140</th>\n",
       "      <th>env_dat_141</th>\n",
       "      <th>env_dat_142</th>\n",
       "      <th>env_dat_144</th>\n",
       "      <th>material_A</th>\n",
       "      <th>material_C</th>\n",
       "      <th>material_D</th>\n",
       "      <th>material_O</th>\n",
       "      <th>material_S</th>\n",
       "    </tr>\n",
       "  </thead>\n",
       "  <tbody>\n",
       "    <tr>\n",
       "      <th>0</th>\n",
       "      <td>20.32</td>\n",
       "      <td>623.542175</td>\n",
       "      <td>18.052843</td>\n",
       "      <td>14.161422</td>\n",
       "      <td>10.268579</td>\n",
       "      <td>159.662827</td>\n",
       "      <td>0.010340</td>\n",
       "      <td>0.030000</td>\n",
       "      <td>0.000000</td>\n",
       "      <td>0.014131</td>\n",
       "      <td>...</td>\n",
       "      <td>27.000000</td>\n",
       "      <td>3085.786865</td>\n",
       "      <td>0.002728</td>\n",
       "      <td>0.311803</td>\n",
       "      <td>0.0</td>\n",
       "      <td>0</td>\n",
       "      <td>0</td>\n",
       "      <td>1</td>\n",
       "      <td>0</td>\n",
       "      <td>0</td>\n",
       "    </tr>\n",
       "    <tr>\n",
       "      <th>1</th>\n",
       "      <td>15.24</td>\n",
       "      <td>644.830017</td>\n",
       "      <td>17.790001</td>\n",
       "      <td>13.830000</td>\n",
       "      <td>9.870000</td>\n",
       "      <td>257.001221</td>\n",
       "      <td>0.007786</td>\n",
       "      <td>0.030000</td>\n",
       "      <td>0.002000</td>\n",
       "      <td>0.020461</td>\n",
       "      <td>...</td>\n",
       "      <td>32.571018</td>\n",
       "      <td>3188.292236</td>\n",
       "      <td>0.003291</td>\n",
       "      <td>0.322161</td>\n",
       "      <td>0.0</td>\n",
       "      <td>0</td>\n",
       "      <td>1</td>\n",
       "      <td>0</td>\n",
       "      <td>0</td>\n",
       "      <td>0</td>\n",
       "    </tr>\n",
       "    <tr>\n",
       "      <th>2</th>\n",
       "      <td>20.32</td>\n",
       "      <td>604.570007</td>\n",
       "      <td>18.219999</td>\n",
       "      <td>14.350000</td>\n",
       "      <td>10.470000</td>\n",
       "      <td>225.165039</td>\n",
       "      <td>0.014548</td>\n",
       "      <td>0.006675</td>\n",
       "      <td>0.002439</td>\n",
       "      <td>0.019730</td>\n",
       "      <td>...</td>\n",
       "      <td>28.978306</td>\n",
       "      <td>4542.257324</td>\n",
       "      <td>0.002928</td>\n",
       "      <td>0.458972</td>\n",
       "      <td>0.0</td>\n",
       "      <td>0</td>\n",
       "      <td>1</td>\n",
       "      <td>0</td>\n",
       "      <td>0</td>\n",
       "      <td>0</td>\n",
       "    </tr>\n",
       "    <tr>\n",
       "      <th>3</th>\n",
       "      <td>15.24</td>\n",
       "      <td>573.424011</td>\n",
       "      <td>17.671381</td>\n",
       "      <td>14.132636</td>\n",
       "      <td>10.586646</td>\n",
       "      <td>170.244339</td>\n",
       "      <td>0.014938</td>\n",
       "      <td>0.005481</td>\n",
       "      <td>0.000583</td>\n",
       "      <td>0.013436</td>\n",
       "      <td>...</td>\n",
       "      <td>41.983772</td>\n",
       "      <td>4521.720215</td>\n",
       "      <td>0.004242</td>\n",
       "      <td>0.456897</td>\n",
       "      <td>0.0</td>\n",
       "      <td>0</td>\n",
       "      <td>0</td>\n",
       "      <td>1</td>\n",
       "      <td>0</td>\n",
       "      <td>0</td>\n",
       "    </tr>\n",
       "    <tr>\n",
       "      <th>4</th>\n",
       "      <td>20.32</td>\n",
       "      <td>583.429993</td>\n",
       "      <td>18.280001</td>\n",
       "      <td>14.350000</td>\n",
       "      <td>10.420000</td>\n",
       "      <td>171.034073</td>\n",
       "      <td>0.025906</td>\n",
       "      <td>0.008322</td>\n",
       "      <td>0.000000</td>\n",
       "      <td>0.013436</td>\n",
       "      <td>...</td>\n",
       "      <td>25.842377</td>\n",
       "      <td>4978.718262</td>\n",
       "      <td>0.002611</td>\n",
       "      <td>0.503074</td>\n",
       "      <td>0.0</td>\n",
       "      <td>0</td>\n",
       "      <td>0</td>\n",
       "      <td>1</td>\n",
       "      <td>0</td>\n",
       "      <td>0</td>\n",
       "    </tr>\n",
       "    <tr>\n",
       "      <th>...</th>\n",
       "      <td>...</td>\n",
       "      <td>...</td>\n",
       "      <td>...</td>\n",
       "      <td>...</td>\n",
       "      <td>...</td>\n",
       "      <td>...</td>\n",
       "      <td>...</td>\n",
       "      <td>...</td>\n",
       "      <td>...</td>\n",
       "      <td>...</td>\n",
       "      <td>...</td>\n",
       "      <td>...</td>\n",
       "      <td>...</td>\n",
       "      <td>...</td>\n",
       "      <td>...</td>\n",
       "      <td>...</td>\n",
       "      <td>...</td>\n",
       "      <td>...</td>\n",
       "      <td>...</td>\n",
       "      <td>...</td>\n",
       "      <td>...</td>\n",
       "    </tr>\n",
       "    <tr>\n",
       "      <th>56769</th>\n",
       "      <td>20.32</td>\n",
       "      <td>610.280029</td>\n",
       "      <td>18.280001</td>\n",
       "      <td>14.340000</td>\n",
       "      <td>10.400000</td>\n",
       "      <td>190.049469</td>\n",
       "      <td>0.010628</td>\n",
       "      <td>0.030000</td>\n",
       "      <td>0.001782</td>\n",
       "      <td>0.015962</td>\n",
       "      <td>...</td>\n",
       "      <td>26.000000</td>\n",
       "      <td>2504.886719</td>\n",
       "      <td>0.002627</td>\n",
       "      <td>0.253106</td>\n",
       "      <td>0.0</td>\n",
       "      <td>0</td>\n",
       "      <td>0</td>\n",
       "      <td>1</td>\n",
       "      <td>0</td>\n",
       "      <td>0</td>\n",
       "    </tr>\n",
       "    <tr>\n",
       "      <th>56770</th>\n",
       "      <td>20.32</td>\n",
       "      <td>610.280029</td>\n",
       "      <td>18.280001</td>\n",
       "      <td>14.340000</td>\n",
       "      <td>10.400000</td>\n",
       "      <td>190.049469</td>\n",
       "      <td>0.010628</td>\n",
       "      <td>0.030000</td>\n",
       "      <td>0.001782</td>\n",
       "      <td>0.015962</td>\n",
       "      <td>...</td>\n",
       "      <td>26.000000</td>\n",
       "      <td>2504.886719</td>\n",
       "      <td>0.002627</td>\n",
       "      <td>0.253106</td>\n",
       "      <td>0.0</td>\n",
       "      <td>0</td>\n",
       "      <td>0</td>\n",
       "      <td>1</td>\n",
       "      <td>0</td>\n",
       "      <td>0</td>\n",
       "    </tr>\n",
       "    <tr>\n",
       "      <th>56771</th>\n",
       "      <td>20.32</td>\n",
       "      <td>610.280029</td>\n",
       "      <td>18.280001</td>\n",
       "      <td>14.340000</td>\n",
       "      <td>10.400000</td>\n",
       "      <td>190.049469</td>\n",
       "      <td>0.010628</td>\n",
       "      <td>0.030000</td>\n",
       "      <td>0.001782</td>\n",
       "      <td>0.015962</td>\n",
       "      <td>...</td>\n",
       "      <td>26.000000</td>\n",
       "      <td>2504.886719</td>\n",
       "      <td>0.002627</td>\n",
       "      <td>0.253106</td>\n",
       "      <td>0.0</td>\n",
       "      <td>0</td>\n",
       "      <td>0</td>\n",
       "      <td>1</td>\n",
       "      <td>0</td>\n",
       "      <td>0</td>\n",
       "    </tr>\n",
       "    <tr>\n",
       "      <th>56772</th>\n",
       "      <td>20.32</td>\n",
       "      <td>610.280029</td>\n",
       "      <td>18.280001</td>\n",
       "      <td>14.340000</td>\n",
       "      <td>10.400000</td>\n",
       "      <td>190.049469</td>\n",
       "      <td>0.010628</td>\n",
       "      <td>0.030000</td>\n",
       "      <td>0.001782</td>\n",
       "      <td>0.015962</td>\n",
       "      <td>...</td>\n",
       "      <td>26.000000</td>\n",
       "      <td>2504.886719</td>\n",
       "      <td>0.002627</td>\n",
       "      <td>0.253106</td>\n",
       "      <td>0.0</td>\n",
       "      <td>0</td>\n",
       "      <td>0</td>\n",
       "      <td>1</td>\n",
       "      <td>0</td>\n",
       "      <td>0</td>\n",
       "    </tr>\n",
       "    <tr>\n",
       "      <th>56773</th>\n",
       "      <td>20.32</td>\n",
       "      <td>610.280029</td>\n",
       "      <td>18.280001</td>\n",
       "      <td>14.340000</td>\n",
       "      <td>10.400000</td>\n",
       "      <td>190.049469</td>\n",
       "      <td>0.010628</td>\n",
       "      <td>0.030000</td>\n",
       "      <td>0.001782</td>\n",
       "      <td>0.015962</td>\n",
       "      <td>...</td>\n",
       "      <td>26.000000</td>\n",
       "      <td>2504.886719</td>\n",
       "      <td>0.002627</td>\n",
       "      <td>0.253106</td>\n",
       "      <td>0.0</td>\n",
       "      <td>0</td>\n",
       "      <td>0</td>\n",
       "      <td>1</td>\n",
       "      <td>0</td>\n",
       "      <td>0</td>\n",
       "    </tr>\n",
       "  </tbody>\n",
       "</table>\n",
       "<p>53630 rows × 101 columns</p>\n",
       "</div>"
      ],
      "text/plain": [
       "       diameter   env_dat_0  env_dat_1  env_dat_2  env_dat_3   env_dat_4  \\\n",
       "0         20.32  623.542175  18.052843  14.161422  10.268579  159.662827   \n",
       "1         15.24  644.830017  17.790001  13.830000   9.870000  257.001221   \n",
       "2         20.32  604.570007  18.219999  14.350000  10.470000  225.165039   \n",
       "3         15.24  573.424011  17.671381  14.132636  10.586646  170.244339   \n",
       "4         20.32  583.429993  18.280001  14.350000  10.420000  171.034073   \n",
       "...         ...         ...        ...        ...        ...         ...   \n",
       "56769     20.32  610.280029  18.280001  14.340000  10.400000  190.049469   \n",
       "56770     20.32  610.280029  18.280001  14.340000  10.400000  190.049469   \n",
       "56771     20.32  610.280029  18.280001  14.340000  10.400000  190.049469   \n",
       "56772     20.32  610.280029  18.280001  14.340000  10.400000  190.049469   \n",
       "56773     20.32  610.280029  18.280001  14.340000  10.400000  190.049469   \n",
       "\n",
       "       env_dat_5  env_dat_6  env_dat_7  env_dat_8  ...  env_dat_139  \\\n",
       "0       0.010340   0.030000   0.000000   0.014131  ...    27.000000   \n",
       "1       0.007786   0.030000   0.002000   0.020461  ...    32.571018   \n",
       "2       0.014548   0.006675   0.002439   0.019730  ...    28.978306   \n",
       "3       0.014938   0.005481   0.000583   0.013436  ...    41.983772   \n",
       "4       0.025906   0.008322   0.000000   0.013436  ...    25.842377   \n",
       "...          ...        ...        ...        ...  ...          ...   \n",
       "56769   0.010628   0.030000   0.001782   0.015962  ...    26.000000   \n",
       "56770   0.010628   0.030000   0.001782   0.015962  ...    26.000000   \n",
       "56771   0.010628   0.030000   0.001782   0.015962  ...    26.000000   \n",
       "56772   0.010628   0.030000   0.001782   0.015962  ...    26.000000   \n",
       "56773   0.010628   0.030000   0.001782   0.015962  ...    26.000000   \n",
       "\n",
       "       env_dat_140  env_dat_141  env_dat_142  env_dat_144  material_A  \\\n",
       "0      3085.786865     0.002728     0.311803          0.0           0   \n",
       "1      3188.292236     0.003291     0.322161          0.0           0   \n",
       "2      4542.257324     0.002928     0.458972          0.0           0   \n",
       "3      4521.720215     0.004242     0.456897          0.0           0   \n",
       "4      4978.718262     0.002611     0.503074          0.0           0   \n",
       "...            ...          ...          ...          ...         ...   \n",
       "56769  2504.886719     0.002627     0.253106          0.0           0   \n",
       "56770  2504.886719     0.002627     0.253106          0.0           0   \n",
       "56771  2504.886719     0.002627     0.253106          0.0           0   \n",
       "56772  2504.886719     0.002627     0.253106          0.0           0   \n",
       "56773  2504.886719     0.002627     0.253106          0.0           0   \n",
       "\n",
       "       material_C  material_D  material_O  material_S  \n",
       "0               0           1           0           0  \n",
       "1               1           0           0           0  \n",
       "2               1           0           0           0  \n",
       "3               0           1           0           0  \n",
       "4               0           1           0           0  \n",
       "...           ...         ...         ...         ...  \n",
       "56769           0           1           0           0  \n",
       "56770           0           1           0           0  \n",
       "56771           0           1           0           0  \n",
       "56772           0           1           0           0  \n",
       "56773           0           1           0           0  \n",
       "\n",
       "[53630 rows x 101 columns]"
      ]
     },
     "execution_count": 110,
     "metadata": {},
     "output_type": "execute_result"
    }
   ],
   "source": [
    "A"
   ]
  },
  {
   "cell_type": "markdown",
   "metadata": {},
   "source": [
    "年齢を予測します。"
   ]
  },
  {
   "cell_type": "code",
   "execution_count": 111,
   "metadata": {},
   "outputs": [],
   "source": [
    "pred = gbm_o.predict(A, num_iteration=gbm_o.best_iteration)"
   ]
  },
  {
   "cell_type": "code",
   "execution_count": 112,
   "metadata": {},
   "outputs": [
    {
     "data": {
      "text/plain": [
       "array([[<AxesSubplot:title={'center':'0'}>]], dtype=object)"
      ]
     },
     "execution_count": 112,
     "metadata": {},
     "output_type": "execute_result"
    },
    {
     "data": {
      "image/png": "[encoded data removed]",
      "text/plain": [
       "<Figure size 432x288 with 1 Axes>"
      ]
     },
     "metadata": {
      "needs_background": "light"
     },
     "output_type": "display_data"
    }
   ],
   "source": [
    "pd.DataFrame(pred).hist()"
   ]
  },
  {
   "cell_type": "code",
   "execution_count": 143,
   "metadata": {},
   "outputs": [],
   "source": [
    "A['age'] = pd.DataFrame(pred.tolist()).astype(int)\n",
    "A['install_year'] = A_install_year"
   ]
  },
  {
   "cell_type": "code",
   "execution_count": 151,
   "metadata": {},
   "outputs": [],
   "source": [
    "A['break_year'] = A['install_year'] + A['age']"
   ]
  },
  {
   "cell_type": "markdown",
   "metadata": {},
   "source": [
    "予測された破損件数のヒストグラムを見てみます。"
   ]
  },
  {
   "cell_type": "code",
   "execution_count": 152,
   "metadata": {},
   "outputs": [
    {
     "data": {
      "text/plain": [
       "<AxesSubplot:>"
      ]
     },
     "execution_count": 152,
     "metadata": {},
     "output_type": "execute_result"
    },
    {
     "data": {
      "image/png": "[encoded data removed]",
      "text/plain": [
       "<Figure size 432x288 with 1 Axes>"
      ]
     },
     "metadata": {
      "needs_background": "light"
     },
     "output_type": "display_data"
    }
   ],
   "source": [
    "A['break_year'].hist()"
   ]
  },
  {
   "cell_type": "code",
   "execution_count": 153,
   "metadata": {},
   "outputs": [
    {
     "data": {
      "text/plain": [
       "<AxesSubplot:>"
      ]
     },
     "execution_count": 153,
     "metadata": {},
     "output_type": "execute_result"
    },
    {
     "data": {
      "image/png": "[encoded data removed]",
      "text/plain": [
       "<Figure size 432x288 with 1 Axes>"
      ]
     },
     "metadata": {
      "needs_background": "light"
     },
     "output_type": "display_data"
    }
   ],
   "source": [
    "A[A['break_year'] < 1980]['install_year'].hist()"
   ]
  },
  {
   "cell_type": "markdown",
   "metadata": {},
   "source": [
    "### 2021年にパイプが破損する確率を求めたい\n",
    "- S: 2020年には生きている（正常である）\n",
    "- D: 2021年に死ぬ（破損する）\n",
    "\n",
    "S, D が以上で与えられている時、求める確率は以下の通りです。\n",
    "\n",
    "P(D|S) = P(D)/P(S)"
   ]
  },
  {
   "cell_type": "code",
   "execution_count": 154,
   "metadata": {},
   "outputs": [
    {
     "data": {
      "text/plain": [
       "0.39330598545590156"
      ]
     },
     "metadata": {},
     "output_type": "display_data"
    }
   ],
   "source": [
    "p_s = (len(A) - len(A[A['break_year'] <= 2020])) / len(A) \n",
    "\n",
    "display(p_s)"
   ]
  },
  {
   "cell_type": "code",
   "execution_count": 155,
   "metadata": {},
   "outputs": [
    {
     "data": {
      "text/html": [
       "<div>\n",
       "<style scoped>\n",
       "    .dataframe tbody tr th:only-of-type {\n",
       "        vertical-align: middle;\n",
       "    }\n",
       "\n",
       "    .dataframe tbody tr th {\n",
       "        vertical-align: top;\n",
       "    }\n",
       "\n",
       "    .dataframe thead th {\n",
       "        text-align: right;\n",
       "    }\n",
       "</style>\n",
       "<table border=\"1\" class=\"dataframe\">\n",
       "  <thead>\n",
       "    <tr style=\"text-align: right;\">\n",
       "      <th></th>\n",
       "      <th>diameter</th>\n",
       "      <th>env_dat_0</th>\n",
       "      <th>env_dat_1</th>\n",
       "      <th>env_dat_2</th>\n",
       "      <th>env_dat_3</th>\n",
       "      <th>env_dat_4</th>\n",
       "      <th>env_dat_5</th>\n",
       "      <th>env_dat_6</th>\n",
       "      <th>env_dat_7</th>\n",
       "      <th>env_dat_8</th>\n",
       "      <th>...</th>\n",
       "      <th>material_A</th>\n",
       "      <th>material_C</th>\n",
       "      <th>material_D</th>\n",
       "      <th>material_O</th>\n",
       "      <th>material_S</th>\n",
       "      <th>break_pred</th>\n",
       "      <th>age</th>\n",
       "      <th>age_pred</th>\n",
       "      <th>install_year</th>\n",
       "      <th>break_year</th>\n",
       "    </tr>\n",
       "  </thead>\n",
       "  <tbody>\n",
       "    <tr>\n",
       "      <th>9</th>\n",
       "      <td>40.64</td>\n",
       "      <td>621.520020</td>\n",
       "      <td>18.389999</td>\n",
       "      <td>14.380000</td>\n",
       "      <td>10.370000</td>\n",
       "      <td>122.000000</td>\n",
       "      <td>0.002382</td>\n",
       "      <td>0.030000</td>\n",
       "      <td>0.001801</td>\n",
       "      <td>0.006234</td>\n",
       "      <td>...</td>\n",
       "      <td>0</td>\n",
       "      <td>1</td>\n",
       "      <td>0</td>\n",
       "      <td>0</td>\n",
       "      <td>0</td>\n",
       "      <td>2026.564239</td>\n",
       "      <td>59.0</td>\n",
       "      <td>59.564239</td>\n",
       "      <td>1967</td>\n",
       "      <td>2026.0</td>\n",
       "    </tr>\n",
       "    <tr>\n",
       "      <th>21</th>\n",
       "      <td>60.96</td>\n",
       "      <td>614.750000</td>\n",
       "      <td>18.120001</td>\n",
       "      <td>14.220000</td>\n",
       "      <td>10.320000</td>\n",
       "      <td>225.944107</td>\n",
       "      <td>0.012383</td>\n",
       "      <td>0.030000</td>\n",
       "      <td>0.000023</td>\n",
       "      <td>0.009492</td>\n",
       "      <td>...</td>\n",
       "      <td>0</td>\n",
       "      <td>0</td>\n",
       "      <td>1</td>\n",
       "      <td>0</td>\n",
       "      <td>0</td>\n",
       "      <td>2027.881629</td>\n",
       "      <td>18.0</td>\n",
       "      <td>18.881629</td>\n",
       "      <td>2009</td>\n",
       "      <td>2027.0</td>\n",
       "    </tr>\n",
       "    <tr>\n",
       "      <th>23</th>\n",
       "      <td>30.48</td>\n",
       "      <td>584.400024</td>\n",
       "      <td>18.260000</td>\n",
       "      <td>14.380000</td>\n",
       "      <td>10.490000</td>\n",
       "      <td>365.868378</td>\n",
       "      <td>0.027598</td>\n",
       "      <td>0.020863</td>\n",
       "      <td>0.002000</td>\n",
       "      <td>0.015207</td>\n",
       "      <td>...</td>\n",
       "      <td>0</td>\n",
       "      <td>0</td>\n",
       "      <td>1</td>\n",
       "      <td>0</td>\n",
       "      <td>0</td>\n",
       "      <td>2030.179867</td>\n",
       "      <td>14.0</td>\n",
       "      <td>14.179867</td>\n",
       "      <td>2016</td>\n",
       "      <td>2030.0</td>\n",
       "    </tr>\n",
       "    <tr>\n",
       "      <th>30</th>\n",
       "      <td>20.32</td>\n",
       "      <td>588.655518</td>\n",
       "      <td>18.204081</td>\n",
       "      <td>14.343740</td>\n",
       "      <td>10.483398</td>\n",
       "      <td>67.095428</td>\n",
       "      <td>0.007818</td>\n",
       "      <td>0.024000</td>\n",
       "      <td>0.000000</td>\n",
       "      <td>0.002000</td>\n",
       "      <td>...</td>\n",
       "      <td>0</td>\n",
       "      <td>1</td>\n",
       "      <td>0</td>\n",
       "      <td>0</td>\n",
       "      <td>0</td>\n",
       "      <td>2041.150986</td>\n",
       "      <td>92.0</td>\n",
       "      <td>92.150986</td>\n",
       "      <td>1949</td>\n",
       "      <td>2041.0</td>\n",
       "    </tr>\n",
       "    <tr>\n",
       "      <th>31</th>\n",
       "      <td>10.16</td>\n",
       "      <td>580.960022</td>\n",
       "      <td>18.260000</td>\n",
       "      <td>14.340000</td>\n",
       "      <td>10.420000</td>\n",
       "      <td>265.505127</td>\n",
       "      <td>0.019146</td>\n",
       "      <td>0.013873</td>\n",
       "      <td>0.002000</td>\n",
       "      <td>0.015396</td>\n",
       "      <td>...</td>\n",
       "      <td>0</td>\n",
       "      <td>1</td>\n",
       "      <td>0</td>\n",
       "      <td>0</td>\n",
       "      <td>0</td>\n",
       "      <td>2037.489826</td>\n",
       "      <td>71.0</td>\n",
       "      <td>71.489826</td>\n",
       "      <td>1966</td>\n",
       "      <td>2037.0</td>\n",
       "    </tr>\n",
       "    <tr>\n",
       "      <th>...</th>\n",
       "      <td>...</td>\n",
       "      <td>...</td>\n",
       "      <td>...</td>\n",
       "      <td>...</td>\n",
       "      <td>...</td>\n",
       "      <td>...</td>\n",
       "      <td>...</td>\n",
       "      <td>...</td>\n",
       "      <td>...</td>\n",
       "      <td>...</td>\n",
       "      <td>...</td>\n",
       "      <td>...</td>\n",
       "      <td>...</td>\n",
       "      <td>...</td>\n",
       "      <td>...</td>\n",
       "      <td>...</td>\n",
       "      <td>...</td>\n",
       "      <td>...</td>\n",
       "      <td>...</td>\n",
       "      <td>...</td>\n",
       "      <td>...</td>\n",
       "    </tr>\n",
       "    <tr>\n",
       "      <th>53621</th>\n",
       "      <td>30.48</td>\n",
       "      <td>610.105347</td>\n",
       "      <td>17.945518</td>\n",
       "      <td>14.103153</td>\n",
       "      <td>10.251576</td>\n",
       "      <td>175.912354</td>\n",
       "      <td>0.012140</td>\n",
       "      <td>0.014099</td>\n",
       "      <td>0.004043</td>\n",
       "      <td>0.019682</td>\n",
       "      <td>...</td>\n",
       "      <td>0</td>\n",
       "      <td>0</td>\n",
       "      <td>1</td>\n",
       "      <td>0</td>\n",
       "      <td>0</td>\n",
       "      <td>2019.956109</td>\n",
       "      <td>16.0</td>\n",
       "      <td>9.956109</td>\n",
       "      <td>2010</td>\n",
       "      <td>2026.0</td>\n",
       "    </tr>\n",
       "    <tr>\n",
       "      <th>53622</th>\n",
       "      <td>30.48</td>\n",
       "      <td>610.105347</td>\n",
       "      <td>17.945518</td>\n",
       "      <td>14.103153</td>\n",
       "      <td>10.251576</td>\n",
       "      <td>175.912354</td>\n",
       "      <td>0.012140</td>\n",
       "      <td>0.014099</td>\n",
       "      <td>0.004043</td>\n",
       "      <td>0.019682</td>\n",
       "      <td>...</td>\n",
       "      <td>0</td>\n",
       "      <td>0</td>\n",
       "      <td>1</td>\n",
       "      <td>0</td>\n",
       "      <td>0</td>\n",
       "      <td>2019.956109</td>\n",
       "      <td>19.0</td>\n",
       "      <td>9.956109</td>\n",
       "      <td>2010</td>\n",
       "      <td>2029.0</td>\n",
       "    </tr>\n",
       "    <tr>\n",
       "      <th>53623</th>\n",
       "      <td>20.32</td>\n",
       "      <td>694.109985</td>\n",
       "      <td>18.139999</td>\n",
       "      <td>13.900000</td>\n",
       "      <td>9.660000</td>\n",
       "      <td>199.927368</td>\n",
       "      <td>0.006280</td>\n",
       "      <td>0.030000</td>\n",
       "      <td>0.006278</td>\n",
       "      <td>0.010496</td>\n",
       "      <td>...</td>\n",
       "      <td>0</td>\n",
       "      <td>0</td>\n",
       "      <td>1</td>\n",
       "      <td>0</td>\n",
       "      <td>0</td>\n",
       "      <td>2028.492564</td>\n",
       "      <td>15.0</td>\n",
       "      <td>16.492564</td>\n",
       "      <td>2012</td>\n",
       "      <td>2027.0</td>\n",
       "    </tr>\n",
       "    <tr>\n",
       "      <th>53626</th>\n",
       "      <td>20.32</td>\n",
       "      <td>644.830017</td>\n",
       "      <td>17.790001</td>\n",
       "      <td>13.830000</td>\n",
       "      <td>9.870000</td>\n",
       "      <td>396.223724</td>\n",
       "      <td>0.012030</td>\n",
       "      <td>0.030000</td>\n",
       "      <td>0.001843</td>\n",
       "      <td>0.017965</td>\n",
       "      <td>...</td>\n",
       "      <td>0</td>\n",
       "      <td>0</td>\n",
       "      <td>1</td>\n",
       "      <td>0</td>\n",
       "      <td>0</td>\n",
       "      <td>2029.714118</td>\n",
       "      <td>15.0</td>\n",
       "      <td>15.714118</td>\n",
       "      <td>2014</td>\n",
       "      <td>2029.0</td>\n",
       "    </tr>\n",
       "    <tr>\n",
       "      <th>53628</th>\n",
       "      <td>20.32</td>\n",
       "      <td>690.690002</td>\n",
       "      <td>17.990000</td>\n",
       "      <td>13.760000</td>\n",
       "      <td>9.530000</td>\n",
       "      <td>70.119560</td>\n",
       "      <td>0.003766</td>\n",
       "      <td>0.030000</td>\n",
       "      <td>0.007862</td>\n",
       "      <td>0.013490</td>\n",
       "      <td>...</td>\n",
       "      <td>0</td>\n",
       "      <td>0</td>\n",
       "      <td>1</td>\n",
       "      <td>0</td>\n",
       "      <td>0</td>\n",
       "      <td>2031.046803</td>\n",
       "      <td>15.0</td>\n",
       "      <td>18.046803</td>\n",
       "      <td>2013</td>\n",
       "      <td>2028.0</td>\n",
       "    </tr>\n",
       "  </tbody>\n",
       "</table>\n",
       "<p>18002 rows × 106 columns</p>\n",
       "</div>"
      ],
      "text/plain": [
       "       diameter   env_dat_0  env_dat_1  env_dat_2  env_dat_3   env_dat_4  \\\n",
       "9         40.64  621.520020  18.389999  14.380000  10.370000  122.000000   \n",
       "21        60.96  614.750000  18.120001  14.220000  10.320000  225.944107   \n",
       "23        30.48  584.400024  18.260000  14.380000  10.490000  365.868378   \n",
       "30        20.32  588.655518  18.204081  14.343740  10.483398   67.095428   \n",
       "31        10.16  580.960022  18.260000  14.340000  10.420000  265.505127   \n",
       "...         ...         ...        ...        ...        ...         ...   \n",
       "53621     30.48  610.105347  17.945518  14.103153  10.251576  175.912354   \n",
       "53622     30.48  610.105347  17.945518  14.103153  10.251576  175.912354   \n",
       "53623     20.32  694.109985  18.139999  13.900000   9.660000  199.927368   \n",
       "53626     20.32  644.830017  17.790001  13.830000   9.870000  396.223724   \n",
       "53628     20.32  690.690002  17.990000  13.760000   9.530000   70.119560   \n",
       "\n",
       "       env_dat_5  env_dat_6  env_dat_7  env_dat_8  ...  material_A  \\\n",
       "9       0.002382   0.030000   0.001801   0.006234  ...           0   \n",
       "21      0.012383   0.030000   0.000023   0.009492  ...           0   \n",
       "23      0.027598   0.020863   0.002000   0.015207  ...           0   \n",
       "30      0.007818   0.024000   0.000000   0.002000  ...           0   \n",
       "31      0.019146   0.013873   0.002000   0.015396  ...           0   \n",
       "...          ...        ...        ...        ...  ...         ...   \n",
       "53621   0.012140   0.014099   0.004043   0.019682  ...           0   \n",
       "53622   0.012140   0.014099   0.004043   0.019682  ...           0   \n",
       "53623   0.006280   0.030000   0.006278   0.010496  ...           0   \n",
       "53626   0.012030   0.030000   0.001843   0.017965  ...           0   \n",
       "53628   0.003766   0.030000   0.007862   0.013490  ...           0   \n",
       "\n",
       "       material_C  material_D  material_O  material_S   break_pred   age  \\\n",
       "9               1           0           0           0  2026.564239  59.0   \n",
       "21              0           1           0           0  2027.881629  18.0   \n",
       "23              0           1           0           0  2030.179867  14.0   \n",
       "30              1           0           0           0  2041.150986  92.0   \n",
       "31              1           0           0           0  2037.489826  71.0   \n",
       "...           ...         ...         ...         ...          ...   ...   \n",
       "53621           0           1           0           0  2019.956109  16.0   \n",
       "53622           0           1           0           0  2019.956109  19.0   \n",
       "53623           0           1           0           0  2028.492564  15.0   \n",
       "53626           0           1           0           0  2029.714118  15.0   \n",
       "53628           0           1           0           0  2031.046803  15.0   \n",
       "\n",
       "        age_pred  install_year  break_year  \n",
       "9      59.564239          1967      2026.0  \n",
       "21     18.881629          2009      2027.0  \n",
       "23     14.179867          2016      2030.0  \n",
       "30     92.150986          1949      2041.0  \n",
       "31     71.489826          1966      2037.0  \n",
       "...          ...           ...         ...  \n",
       "53621   9.956109          2010      2026.0  \n",
       "53622   9.956109          2010      2029.0  \n",
       "53623  16.492564          2012      2027.0  \n",
       "53626  15.714118          2014      2029.0  \n",
       "53628  18.046803          2013      2028.0  \n",
       "\n",
       "[18002 rows x 106 columns]"
      ]
     },
     "execution_count": 155,
     "metadata": {},
     "output_type": "execute_result"
    }
   ],
   "source": [
    "A[A['break_year'] >= 2021]"
   ]
  },
  {
   "cell_type": "code",
   "execution_count": 156,
   "metadata": {},
   "outputs": [
    {
     "data": {
      "text/plain": [
       "0.0107216110385978"
      ]
     },
     "metadata": {},
     "output_type": "display_data"
    }
   ],
   "source": [
    "p_d = len(A[A['break_year'] == 2021]) / len(A)\n",
    "\n",
    "display (p_d)"
   ]
  },
  {
   "cell_type": "code",
   "execution_count": 157,
   "metadata": {},
   "outputs": [
    {
     "data": {
      "text/plain": [
       "0.027260228511828567"
      ]
     },
     "metadata": {},
     "output_type": "display_data"
    }
   ],
   "source": [
    "p_2021 = p_d / p_s\n",
    "\n",
    "display(p_2021)\n"
   ]
  },
  {
   "cell_type": "markdown",
   "metadata": {},
   "source": [
    "2021年にパイプが破損する確率は約5.8％の予測になります。"
   ]
  },
  {
   "cell_type": "code",
   "execution_count": null,
   "metadata": {},
   "outputs": [],
   "source": []
  }
 ],
 "metadata": {
  "kernelspec": {
   "display_name": "Python 3.9.7 ('base')",
   "language": "python",
   "name": "python3"
  },
  "language_info": {
   "codemirror_mode": {
    "name": "ipython",
    "version": 3
   },
   "file_extension": ".py",
   "mimetype": "text/x-python",
   "name": "python",
   "nbconvert_exporter": "python",
   "pygments_lexer": "ipython3",
   "version": "3.9.7"
  },
  "orig_nbformat": 4,
  "vscode": {
   "interpreter": {
    "hash": "78dff71eddf14ad1ad35973f89b3fdcb9b6c433125ae9dd428eec0294e5f5e0e"
   }
  }
 },
 "nbformat": 4,
 "nbformat_minor": 2
}
