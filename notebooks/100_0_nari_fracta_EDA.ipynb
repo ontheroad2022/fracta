{
 "cells": [
  {
   "cell_type": "markdown",
   "metadata": {},
   "source": [
    "## Coding Challenge\n",
    "\n",
    "- 2021年におけるパイプの故障率を予測するモデルを構築する\n",
    "- モデルの評価指標を作成し、それの基づいてモデルを評価する\n",
    "\n"
   ]
  },
  {
   "cell_type": "code",
   "execution_count": 1,
   "metadata": {},
   "outputs": [],
   "source": [
    "import pandas as pd\n",
    "import numpy as np\n",
    "import joblib\n",
    "import sys, os\n",
    "import dateutil\n",
    "from datetime import datetime, timedelta\n",
    "from glob import glob\n",
    "import matplotlib.pyplot as plt\n",
    "import japanize_matplotlib\n",
    "sys.path.append('../..')\n",
    "from utils import *\n",
    "\n",
    "import warnings\n",
    "warnings.filterwarnings(\"ignore\")\n",
    "\n",
    "%matplotlib inline\n",
    "%load_ext autoreload\n",
    "%autoreload 2"
   ]
  },
  {
   "cell_type": "code",
   "execution_count": 2,
   "metadata": {},
   "outputs": [
    {
     "data": {
      "text/html": [
       "<div>\n",
       "<style scoped>\n",
       "    .dataframe tbody tr th:only-of-type {\n",
       "        vertical-align: middle;\n",
       "    }\n",
       "\n",
       "    .dataframe tbody tr th {\n",
       "        vertical-align: top;\n",
       "    }\n",
       "\n",
       "    .dataframe thead th {\n",
       "        text-align: right;\n",
       "    }\n",
       "</style>\n",
       "<table border=\"1\" class=\"dataframe\">\n",
       "  <thead>\n",
       "    <tr style=\"text-align: right;\">\n",
       "      <th></th>\n",
       "      <th>pipe_id</th>\n",
       "      <th>install_year</th>\n",
       "      <th>material</th>\n",
       "      <th>diameter</th>\n",
       "      <th>break_year</th>\n",
       "      <th>env_dat_0</th>\n",
       "      <th>env_dat_1</th>\n",
       "      <th>env_dat_2</th>\n",
       "      <th>env_dat_3</th>\n",
       "      <th>env_dat_4</th>\n",
       "      <th>...</th>\n",
       "      <th>env_dat_135</th>\n",
       "      <th>env_dat_136</th>\n",
       "      <th>env_dat_137</th>\n",
       "      <th>env_dat_138</th>\n",
       "      <th>env_dat_139</th>\n",
       "      <th>env_dat_140</th>\n",
       "      <th>env_dat_141</th>\n",
       "      <th>env_dat_142</th>\n",
       "      <th>env_dat_143</th>\n",
       "      <th>env_dat_144</th>\n",
       "    </tr>\n",
       "  </thead>\n",
       "  <tbody>\n",
       "    <tr>\n",
       "      <th>0</th>\n",
       "      <td>P0000000000</td>\n",
       "      <td>1985</td>\n",
       "      <td>D</td>\n",
       "      <td>20.32</td>\n",
       "      <td>NaN</td>\n",
       "      <td>623.542175</td>\n",
       "      <td>18.052843</td>\n",
       "      <td>14.161422</td>\n",
       "      <td>10.268579</td>\n",
       "      <td>159.662827</td>\n",
       "      <td>...</td>\n",
       "      <td>554.479675</td>\n",
       "      <td>20.000000</td>\n",
       "      <td>0.000038</td>\n",
       "      <td>438.628143</td>\n",
       "      <td>27.000000</td>\n",
       "      <td>3085.786865</td>\n",
       "      <td>0.002728</td>\n",
       "      <td>0.311803</td>\n",
       "      <td>0.0</td>\n",
       "      <td>0.0</td>\n",
       "    </tr>\n",
       "    <tr>\n",
       "      <th>1</th>\n",
       "      <td>P0000000001</td>\n",
       "      <td>1934</td>\n",
       "      <td>C</td>\n",
       "      <td>15.24</td>\n",
       "      <td>NaN</td>\n",
       "      <td>644.830017</td>\n",
       "      <td>17.790001</td>\n",
       "      <td>13.830000</td>\n",
       "      <td>9.870000</td>\n",
       "      <td>257.001221</td>\n",
       "      <td>...</td>\n",
       "      <td>276.357605</td>\n",
       "      <td>9.200573</td>\n",
       "      <td>0.304329</td>\n",
       "      <td>239.719299</td>\n",
       "      <td>32.571018</td>\n",
       "      <td>3188.292236</td>\n",
       "      <td>0.003291</td>\n",
       "      <td>0.322161</td>\n",
       "      <td>0.0</td>\n",
       "      <td>0.0</td>\n",
       "    </tr>\n",
       "    <tr>\n",
       "      <th>2</th>\n",
       "      <td>P0000000002</td>\n",
       "      <td>1904</td>\n",
       "      <td>C</td>\n",
       "      <td>20.32</td>\n",
       "      <td>NaN</td>\n",
       "      <td>604.570007</td>\n",
       "      <td>18.219999</td>\n",
       "      <td>14.350000</td>\n",
       "      <td>10.470000</td>\n",
       "      <td>225.165039</td>\n",
       "      <td>...</td>\n",
       "      <td>236.882950</td>\n",
       "      <td>4.872639</td>\n",
       "      <td>0.182168</td>\n",
       "      <td>500.638367</td>\n",
       "      <td>28.978306</td>\n",
       "      <td>4542.257324</td>\n",
       "      <td>0.002928</td>\n",
       "      <td>0.458972</td>\n",
       "      <td>0.0</td>\n",
       "      <td>0.0</td>\n",
       "    </tr>\n",
       "    <tr>\n",
       "      <th>3</th>\n",
       "      <td>P0000000003</td>\n",
       "      <td>1979</td>\n",
       "      <td>D</td>\n",
       "      <td>15.24</td>\n",
       "      <td>NaN</td>\n",
       "      <td>573.424011</td>\n",
       "      <td>17.671381</td>\n",
       "      <td>14.132636</td>\n",
       "      <td>10.586646</td>\n",
       "      <td>170.244339</td>\n",
       "      <td>...</td>\n",
       "      <td>321.886658</td>\n",
       "      <td>12.353504</td>\n",
       "      <td>0.480517</td>\n",
       "      <td>295.554504</td>\n",
       "      <td>41.983772</td>\n",
       "      <td>4521.720215</td>\n",
       "      <td>0.004242</td>\n",
       "      <td>0.456897</td>\n",
       "      <td>0.0</td>\n",
       "      <td>0.0</td>\n",
       "    </tr>\n",
       "    <tr>\n",
       "      <th>4</th>\n",
       "      <td>P0000000004</td>\n",
       "      <td>1987</td>\n",
       "      <td>D</td>\n",
       "      <td>20.32</td>\n",
       "      <td>NaN</td>\n",
       "      <td>583.429993</td>\n",
       "      <td>18.280001</td>\n",
       "      <td>14.350000</td>\n",
       "      <td>10.420000</td>\n",
       "      <td>171.034073</td>\n",
       "      <td>...</td>\n",
       "      <td>758.841431</td>\n",
       "      <td>25.052542</td>\n",
       "      <td>0.021532</td>\n",
       "      <td>778.687256</td>\n",
       "      <td>25.842377</td>\n",
       "      <td>4978.718262</td>\n",
       "      <td>0.002611</td>\n",
       "      <td>0.503074</td>\n",
       "      <td>0.0</td>\n",
       "      <td>0.0</td>\n",
       "    </tr>\n",
       "  </tbody>\n",
       "</table>\n",
       "<p>5 rows × 150 columns</p>\n",
       "</div>"
      ],
      "text/plain": [
       "       pipe_id  install_year material  diameter  break_year   env_dat_0  \\\n",
       "0  P0000000000          1985        D     20.32         NaN  623.542175   \n",
       "1  P0000000001          1934        C     15.24         NaN  644.830017   \n",
       "2  P0000000002          1904        C     20.32         NaN  604.570007   \n",
       "3  P0000000003          1979        D     15.24         NaN  573.424011   \n",
       "4  P0000000004          1987        D     20.32         NaN  583.429993   \n",
       "\n",
       "   env_dat_1  env_dat_2  env_dat_3   env_dat_4  ...  env_dat_135  env_dat_136  \\\n",
       "0  18.052843  14.161422  10.268579  159.662827  ...   554.479675    20.000000   \n",
       "1  17.790001  13.830000   9.870000  257.001221  ...   276.357605     9.200573   \n",
       "2  18.219999  14.350000  10.470000  225.165039  ...   236.882950     4.872639   \n",
       "3  17.671381  14.132636  10.586646  170.244339  ...   321.886658    12.353504   \n",
       "4  18.280001  14.350000  10.420000  171.034073  ...   758.841431    25.052542   \n",
       "\n",
       "   env_dat_137  env_dat_138  env_dat_139  env_dat_140  env_dat_141  \\\n",
       "0     0.000038   438.628143    27.000000  3085.786865     0.002728   \n",
       "1     0.304329   239.719299    32.571018  3188.292236     0.003291   \n",
       "2     0.182168   500.638367    28.978306  4542.257324     0.002928   \n",
       "3     0.480517   295.554504    41.983772  4521.720215     0.004242   \n",
       "4     0.021532   778.687256    25.842377  4978.718262     0.002611   \n",
       "\n",
       "   env_dat_142  env_dat_143  env_dat_144  \n",
       "0     0.311803          0.0          0.0  \n",
       "1     0.322161          0.0          0.0  \n",
       "2     0.458972          0.0          0.0  \n",
       "3     0.456897          0.0          0.0  \n",
       "4     0.503074          0.0          0.0  \n",
       "\n",
       "[5 rows x 150 columns]"
      ]
     },
     "metadata": {},
     "output_type": "display_data"
    }
   ],
   "source": [
    "df_pipe = pd.read_csv('./fracta_Dec3.csv')\n",
    "df_wk = df_pipe.copy()\n",
    "display(df_wk.head())"
   ]
  },
  {
   "cell_type": "markdown",
   "metadata": {},
   "source": [
    "- 全体で56774件のレコードが存在し、そのうち故障件数は3144\n",
    "- およそ5.5%程に故障年が存在する"
   ]
  },
  {
   "cell_type": "code",
   "execution_count": 3,
   "metadata": {},
   "outputs": [
    {
     "data": {
      "text/plain": [
       "56774"
      ]
     },
     "metadata": {},
     "output_type": "display_data"
    },
    {
     "data": {
      "text/plain": [
       "56774"
      ]
     },
     "metadata": {},
     "output_type": "display_data"
    },
    {
     "data": {
      "text/plain": [
       "1.0"
      ]
     },
     "metadata": {},
     "output_type": "display_data"
    }
   ],
   "source": [
    "total = len(df_wk)\n",
    "death = len(df_wk['break_year'].notna())\n",
    "birth = len(df_wk['install_year'].notna())\n",
    "\n",
    "display(total)\n",
    "display(death)\n",
    "display(death/total)"
   ]
  },
  {
   "cell_type": "code",
   "execution_count": 4,
   "metadata": {},
   "outputs": [],
   "source": [
    "df_wk = pd.get_dummies(df_wk, columns=['material'])"
   ]
  },
  {
   "cell_type": "code",
   "execution_count": 5,
   "metadata": {},
   "outputs": [],
   "source": [
    "# df_wk['pipe_id_int']=df_wk['pipe_id'].apply(lambda x: x[1:] if x[0] == 'P' else None).astype(int)"
   ]
  },
  {
   "cell_type": "markdown",
   "metadata": {},
   "source": [
    "- 故障したものについて年数を算出する"
   ]
  },
  {
   "cell_type": "code",
   "execution_count": 6,
   "metadata": {},
   "outputs": [
    {
     "data": {
      "text/plain": [
       "3144"
      ]
     },
     "metadata": {},
     "output_type": "display_data"
    },
    {
     "data": {
      "text/plain": [
       "<AxesSubplot:>"
      ]
     },
     "execution_count": 6,
     "metadata": {},
     "output_type": "execute_result"
    },
    {
     "data": {
      "image/png": "[encoded data removed]",
      "text/plain": [
       "<Figure size 432x288 with 1 Axes>"
      ]
     },
     "metadata": {
      "needs_background": "light"
     },
     "output_type": "display_data"
    }
   ],
   "source": [
    "df_break=df_wk[df_wk['break_year'].notna()].copy()\n",
    "# df_break['break_year'].hist()\n",
    "\n",
    "df_break['age'] = df_break['break_year'] - df_break['install_year']\n",
    "display(len(df_break))\n",
    "df_break['age'].hist()"
   ]
  },
  {
   "cell_type": "markdown",
   "metadata": {},
   "source": [
    "パイプの年齢の平均を可視化"
   ]
  },
  {
   "cell_type": "code",
   "execution_count": 7,
   "metadata": {},
   "outputs": [
    {
     "data": {
      "text/plain": [
       "[<matplotlib.lines.Line2D at 0x7fa73518ac20>]"
      ]
     },
     "execution_count": 7,
     "metadata": {},
     "output_type": "execute_result"
    },
    {
     "data": {
      "image/png": "[encoded data removed]",
      "text/plain": [
       "<Figure size 432x288 with 1 Axes>"
      ]
     },
     "metadata": {
      "needs_background": "light"
     },
     "output_type": "display_data"
    }
   ],
   "source": [
    "df_stats = df_break.set_index('install_year')\n",
    "df_stats = df_stats.groupby('install_year').mean()\n",
    "plt.plot(df_stats['age'])"
   ]
  },
  {
   "cell_type": "code",
   "execution_count": 8,
   "metadata": {},
   "outputs": [
    {
     "data": {
      "text/plain": [
       "[<matplotlib.lines.Line2D at 0x7fa7351fb910>]"
      ]
     },
     "execution_count": 8,
     "metadata": {},
     "output_type": "execute_result"
    },
    {
     "data": {
      "image/png": "[encoded data removed]",
      "text/plain": [
       "<Figure size 432x288 with 1 Axes>"
      ]
     },
     "metadata": {
      "needs_background": "light"
     },
     "output_type": "display_data"
    }
   ],
   "source": [
    "plt.plot(df_stats['break_year'])"
   ]
  },
  {
   "cell_type": "code",
   "execution_count": 9,
   "metadata": {},
   "outputs": [
    {
     "data": {
      "text/plain": [
       "[<matplotlib.lines.Line2D at 0x7fa7350905b0>]"
      ]
     },
     "execution_count": 9,
     "metadata": {},
     "output_type": "execute_result"
    },
    {
     "data": {
      "image/png": "[encoded data removed]",
      "text/plain": [
       "<Figure size 432x288 with 1 Axes>"
      ]
     },
     "metadata": {
      "needs_background": "light"
     },
     "output_type": "display_data"
    }
   ],
   "source": [
    "plt.plot(df_stats['diameter'])"
   ]
  },
  {
   "cell_type": "markdown",
   "metadata": {},
   "source": [
    "正常なものについて年数を算出します。"
   ]
  },
  {
   "cell_type": "code",
   "execution_count": 10,
   "metadata": {},
   "outputs": [
    {
     "data": {
      "text/plain": [
       "53630"
      ]
     },
     "metadata": {},
     "output_type": "display_data"
    },
    {
     "data": {
      "text/plain": [
       "<AxesSubplot:>"
      ]
     },
     "execution_count": 10,
     "metadata": {},
     "output_type": "execute_result"
    },
    {
     "data": {
      "image/png": "[encoded data removed]",
      "text/plain": [
       "<Figure size 432x288 with 1 Axes>"
      ]
     },
     "metadata": {
      "needs_background": "light"
     },
     "output_type": "display_data"
    }
   ],
   "source": [
    "df_alive=df_wk[df_wk['break_year'].isna()]\n",
    "# df_break['break_year'].hist()\n",
    "\n",
    "df_alive['age'] = 2022 - df_alive['install_year']\n",
    "display(len(df_alive))\n",
    "df_alive['age'].hist()"
   ]
  },
  {
   "cell_type": "code",
   "execution_count": 11,
   "metadata": {},
   "outputs": [
    {
     "data": {
      "text/plain": [
       "<AxesSubplot:>"
      ]
     },
     "execution_count": 11,
     "metadata": {},
     "output_type": "execute_result"
    },
    {
     "data": {
      "image/png": "[encoded data removed]",
      "text/plain": [
       "<Figure size 432x288 with 1 Axes>"
      ]
     },
     "metadata": {
      "needs_background": "light"
     },
     "output_type": "display_data"
    }
   ],
   "source": [
    "df_wk[df_wk['break_year'].notna()]['break_year'].astype(int).hist()"
   ]
  },
  {
   "cell_type": "markdown",
   "metadata": {},
   "source": [
    "故障年は1980年から2016年までです"
   ]
  },
  {
   "cell_type": "code",
   "execution_count": 12,
   "metadata": {},
   "outputs": [
    {
     "data": {
      "text/plain": [
       "<AxesSubplot:>"
      ]
     },
     "execution_count": 12,
     "metadata": {},
     "output_type": "execute_result"
    },
    {
     "data": {
      "image/png": "[encoded data removed]",
      "text/plain": [
       "<Figure size 432x288 with 1 Axes>"
      ]
     },
     "metadata": {
      "needs_background": "light"
     },
     "output_type": "display_data"
    }
   ],
   "source": [
    "df_break['break_year'].hist()"
   ]
  },
  {
   "cell_type": "code",
   "execution_count": 13,
   "metadata": {},
   "outputs": [
    {
     "data": {
      "text/html": [
       "<div>\n",
       "<style scoped>\n",
       "    .dataframe tbody tr th:only-of-type {\n",
       "        vertical-align: middle;\n",
       "    }\n",
       "\n",
       "    .dataframe tbody tr th {\n",
       "        vertical-align: top;\n",
       "    }\n",
       "\n",
       "    .dataframe thead th {\n",
       "        text-align: right;\n",
       "    }\n",
       "</style>\n",
       "<table border=\"1\" class=\"dataframe\">\n",
       "  <thead>\n",
       "    <tr style=\"text-align: right;\">\n",
       "      <th></th>\n",
       "      <th>pipe_id</th>\n",
       "      <th>install_year</th>\n",
       "      <th>diameter</th>\n",
       "      <th>break_year</th>\n",
       "      <th>env_dat_0</th>\n",
       "      <th>env_dat_1</th>\n",
       "      <th>env_dat_2</th>\n",
       "      <th>env_dat_3</th>\n",
       "      <th>env_dat_4</th>\n",
       "      <th>env_dat_5</th>\n",
       "      <th>...</th>\n",
       "      <th>env_dat_141</th>\n",
       "      <th>env_dat_142</th>\n",
       "      <th>env_dat_143</th>\n",
       "      <th>env_dat_144</th>\n",
       "      <th>material_A</th>\n",
       "      <th>material_C</th>\n",
       "      <th>material_D</th>\n",
       "      <th>material_O</th>\n",
       "      <th>material_S</th>\n",
       "      <th>age</th>\n",
       "    </tr>\n",
       "  </thead>\n",
       "  <tbody>\n",
       "    <tr>\n",
       "      <th>41</th>\n",
       "      <td>P0000000041</td>\n",
       "      <td>1983</td>\n",
       "      <td>20.32</td>\n",
       "      <td>1990.0</td>\n",
       "      <td>568.710022</td>\n",
       "      <td>17.559999</td>\n",
       "      <td>14.100000</td>\n",
       "      <td>10.640000</td>\n",
       "      <td>0.023671</td>\n",
       "      <td>0.000005</td>\n",
       "      <td>...</td>\n",
       "      <td>0.000505</td>\n",
       "      <td>0.383964</td>\n",
       "      <td>0.0</td>\n",
       "      <td>0.0</td>\n",
       "      <td>0</td>\n",
       "      <td>0</td>\n",
       "      <td>1</td>\n",
       "      <td>0</td>\n",
       "      <td>0</td>\n",
       "      <td>7.0</td>\n",
       "    </tr>\n",
       "    <tr>\n",
       "      <th>52</th>\n",
       "      <td>P0000000052</td>\n",
       "      <td>1968</td>\n",
       "      <td>20.32</td>\n",
       "      <td>1995.0</td>\n",
       "      <td>580.960022</td>\n",
       "      <td>18.260000</td>\n",
       "      <td>14.340000</td>\n",
       "      <td>10.420000</td>\n",
       "      <td>299.776337</td>\n",
       "      <td>0.037117</td>\n",
       "      <td>...</td>\n",
       "      <td>0.001921</td>\n",
       "      <td>0.453269</td>\n",
       "      <td>0.0</td>\n",
       "      <td>1.0</td>\n",
       "      <td>0</td>\n",
       "      <td>0</td>\n",
       "      <td>1</td>\n",
       "      <td>0</td>\n",
       "      <td>0</td>\n",
       "      <td>27.0</td>\n",
       "    </tr>\n",
       "    <tr>\n",
       "      <th>63</th>\n",
       "      <td>P0000000063</td>\n",
       "      <td>1991</td>\n",
       "      <td>10.16</td>\n",
       "      <td>2003.0</td>\n",
       "      <td>615.322571</td>\n",
       "      <td>18.112228</td>\n",
       "      <td>14.210916</td>\n",
       "      <td>10.309492</td>\n",
       "      <td>105.444649</td>\n",
       "      <td>0.010701</td>\n",
       "      <td>...</td>\n",
       "      <td>0.002991</td>\n",
       "      <td>0.310529</td>\n",
       "      <td>0.0</td>\n",
       "      <td>0.0</td>\n",
       "      <td>0</td>\n",
       "      <td>0</td>\n",
       "      <td>1</td>\n",
       "      <td>0</td>\n",
       "      <td>0</td>\n",
       "      <td>12.0</td>\n",
       "    </tr>\n",
       "    <tr>\n",
       "      <th>68</th>\n",
       "      <td>P0000000068</td>\n",
       "      <td>1924</td>\n",
       "      <td>20.32</td>\n",
       "      <td>2015.0</td>\n",
       "      <td>610.489990</td>\n",
       "      <td>17.080000</td>\n",
       "      <td>13.870000</td>\n",
       "      <td>10.650000</td>\n",
       "      <td>113.146187</td>\n",
       "      <td>0.007912</td>\n",
       "      <td>...</td>\n",
       "      <td>0.002717</td>\n",
       "      <td>0.536662</td>\n",
       "      <td>0.0</td>\n",
       "      <td>0.0</td>\n",
       "      <td>0</td>\n",
       "      <td>1</td>\n",
       "      <td>0</td>\n",
       "      <td>0</td>\n",
       "      <td>0</td>\n",
       "      <td>91.0</td>\n",
       "    </tr>\n",
       "    <tr>\n",
       "      <th>87</th>\n",
       "      <td>P0000000087</td>\n",
       "      <td>1947</td>\n",
       "      <td>15.24</td>\n",
       "      <td>1995.0</td>\n",
       "      <td>644.830017</td>\n",
       "      <td>17.790001</td>\n",
       "      <td>13.830000</td>\n",
       "      <td>9.870000</td>\n",
       "      <td>86.456589</td>\n",
       "      <td>0.006315</td>\n",
       "      <td>...</td>\n",
       "      <td>0.002754</td>\n",
       "      <td>0.321194</td>\n",
       "      <td>0.0</td>\n",
       "      <td>0.0</td>\n",
       "      <td>0</td>\n",
       "      <td>1</td>\n",
       "      <td>0</td>\n",
       "      <td>0</td>\n",
       "      <td>0</td>\n",
       "      <td>48.0</td>\n",
       "    </tr>\n",
       "  </tbody>\n",
       "</table>\n",
       "<p>5 rows × 155 columns</p>\n",
       "</div>"
      ],
      "text/plain": [
       "        pipe_id  install_year  diameter  break_year   env_dat_0  env_dat_1  \\\n",
       "41  P0000000041          1983     20.32      1990.0  568.710022  17.559999   \n",
       "52  P0000000052          1968     20.32      1995.0  580.960022  18.260000   \n",
       "63  P0000000063          1991     10.16      2003.0  615.322571  18.112228   \n",
       "68  P0000000068          1924     20.32      2015.0  610.489990  17.080000   \n",
       "87  P0000000087          1947     15.24      1995.0  644.830017  17.790001   \n",
       "\n",
       "    env_dat_2  env_dat_3   env_dat_4  env_dat_5  ...  env_dat_141  \\\n",
       "41  14.100000  10.640000    0.023671   0.000005  ...     0.000505   \n",
       "52  14.340000  10.420000  299.776337   0.037117  ...     0.001921   \n",
       "63  14.210916  10.309492  105.444649   0.010701  ...     0.002991   \n",
       "68  13.870000  10.650000  113.146187   0.007912  ...     0.002717   \n",
       "87  13.830000   9.870000   86.456589   0.006315  ...     0.002754   \n",
       "\n",
       "    env_dat_142  env_dat_143  env_dat_144  material_A  material_C  material_D  \\\n",
       "41     0.383964          0.0          0.0           0           0           1   \n",
       "52     0.453269          0.0          1.0           0           0           1   \n",
       "63     0.310529          0.0          0.0           0           0           1   \n",
       "68     0.536662          0.0          0.0           0           1           0   \n",
       "87     0.321194          0.0          0.0           0           1           0   \n",
       "\n",
       "    material_O  material_S   age  \n",
       "41           0           0   7.0  \n",
       "52           0           0  27.0  \n",
       "63           0           0  12.0  \n",
       "68           0           0  91.0  \n",
       "87           0           0  48.0  \n",
       "\n",
       "[5 rows x 155 columns]"
      ]
     },
     "execution_count": 13,
     "metadata": {},
     "output_type": "execute_result"
    }
   ],
   "source": [
    "df_break.head()"
   ]
  },
  {
   "cell_type": "code",
   "execution_count": 14,
   "metadata": {},
   "outputs": [
    {
     "data": {
      "text/html": [
       "<div>\n",
       "<style scoped>\n",
       "    .dataframe tbody tr th:only-of-type {\n",
       "        vertical-align: middle;\n",
       "    }\n",
       "\n",
       "    .dataframe tbody tr th {\n",
       "        vertical-align: top;\n",
       "    }\n",
       "\n",
       "    .dataframe thead th {\n",
       "        text-align: right;\n",
       "    }\n",
       "</style>\n",
       "<table border=\"1\" class=\"dataframe\">\n",
       "  <thead>\n",
       "    <tr style=\"text-align: right;\">\n",
       "      <th></th>\n",
       "      <th>pipe_id</th>\n",
       "      <th>install_year</th>\n",
       "      <th>diameter</th>\n",
       "      <th>break_year</th>\n",
       "      <th>env_dat_0</th>\n",
       "      <th>env_dat_1</th>\n",
       "      <th>env_dat_2</th>\n",
       "      <th>env_dat_3</th>\n",
       "      <th>env_dat_4</th>\n",
       "      <th>env_dat_5</th>\n",
       "      <th>...</th>\n",
       "      <th>env_dat_141</th>\n",
       "      <th>env_dat_142</th>\n",
       "      <th>env_dat_143</th>\n",
       "      <th>env_dat_144</th>\n",
       "      <th>material_A</th>\n",
       "      <th>material_C</th>\n",
       "      <th>material_D</th>\n",
       "      <th>material_O</th>\n",
       "      <th>material_S</th>\n",
       "      <th>age</th>\n",
       "    </tr>\n",
       "  </thead>\n",
       "  <tbody>\n",
       "    <tr>\n",
       "      <th>41</th>\n",
       "      <td>P0000000041</td>\n",
       "      <td>1983</td>\n",
       "      <td>20.32</td>\n",
       "      <td>1990.0</td>\n",
       "      <td>568.710022</td>\n",
       "      <td>17.559999</td>\n",
       "      <td>14.100000</td>\n",
       "      <td>10.640000</td>\n",
       "      <td>0.023671</td>\n",
       "      <td>0.000005</td>\n",
       "      <td>...</td>\n",
       "      <td>0.000505</td>\n",
       "      <td>0.383964</td>\n",
       "      <td>0.0</td>\n",
       "      <td>0.0</td>\n",
       "      <td>0</td>\n",
       "      <td>0</td>\n",
       "      <td>1</td>\n",
       "      <td>0</td>\n",
       "      <td>0</td>\n",
       "      <td>7.0</td>\n",
       "    </tr>\n",
       "    <tr>\n",
       "      <th>52</th>\n",
       "      <td>P0000000052</td>\n",
       "      <td>1968</td>\n",
       "      <td>20.32</td>\n",
       "      <td>1995.0</td>\n",
       "      <td>580.960022</td>\n",
       "      <td>18.260000</td>\n",
       "      <td>14.340000</td>\n",
       "      <td>10.420000</td>\n",
       "      <td>299.776337</td>\n",
       "      <td>0.037117</td>\n",
       "      <td>...</td>\n",
       "      <td>0.001921</td>\n",
       "      <td>0.453269</td>\n",
       "      <td>0.0</td>\n",
       "      <td>1.0</td>\n",
       "      <td>0</td>\n",
       "      <td>0</td>\n",
       "      <td>1</td>\n",
       "      <td>0</td>\n",
       "      <td>0</td>\n",
       "      <td>27.0</td>\n",
       "    </tr>\n",
       "    <tr>\n",
       "      <th>63</th>\n",
       "      <td>P0000000063</td>\n",
       "      <td>1991</td>\n",
       "      <td>10.16</td>\n",
       "      <td>2003.0</td>\n",
       "      <td>615.322571</td>\n",
       "      <td>18.112228</td>\n",
       "      <td>14.210916</td>\n",
       "      <td>10.309492</td>\n",
       "      <td>105.444649</td>\n",
       "      <td>0.010701</td>\n",
       "      <td>...</td>\n",
       "      <td>0.002991</td>\n",
       "      <td>0.310529</td>\n",
       "      <td>0.0</td>\n",
       "      <td>0.0</td>\n",
       "      <td>0</td>\n",
       "      <td>0</td>\n",
       "      <td>1</td>\n",
       "      <td>0</td>\n",
       "      <td>0</td>\n",
       "      <td>12.0</td>\n",
       "    </tr>\n",
       "    <tr>\n",
       "      <th>68</th>\n",
       "      <td>P0000000068</td>\n",
       "      <td>1924</td>\n",
       "      <td>20.32</td>\n",
       "      <td>2015.0</td>\n",
       "      <td>610.489990</td>\n",
       "      <td>17.080000</td>\n",
       "      <td>13.870000</td>\n",
       "      <td>10.650000</td>\n",
       "      <td>113.146187</td>\n",
       "      <td>0.007912</td>\n",
       "      <td>...</td>\n",
       "      <td>0.002717</td>\n",
       "      <td>0.536662</td>\n",
       "      <td>0.0</td>\n",
       "      <td>0.0</td>\n",
       "      <td>0</td>\n",
       "      <td>1</td>\n",
       "      <td>0</td>\n",
       "      <td>0</td>\n",
       "      <td>0</td>\n",
       "      <td>91.0</td>\n",
       "    </tr>\n",
       "    <tr>\n",
       "      <th>87</th>\n",
       "      <td>P0000000087</td>\n",
       "      <td>1947</td>\n",
       "      <td>15.24</td>\n",
       "      <td>1995.0</td>\n",
       "      <td>644.830017</td>\n",
       "      <td>17.790001</td>\n",
       "      <td>13.830000</td>\n",
       "      <td>9.870000</td>\n",
       "      <td>86.456589</td>\n",
       "      <td>0.006315</td>\n",
       "      <td>...</td>\n",
       "      <td>0.002754</td>\n",
       "      <td>0.321194</td>\n",
       "      <td>0.0</td>\n",
       "      <td>0.0</td>\n",
       "      <td>0</td>\n",
       "      <td>1</td>\n",
       "      <td>0</td>\n",
       "      <td>0</td>\n",
       "      <td>0</td>\n",
       "      <td>48.0</td>\n",
       "    </tr>\n",
       "  </tbody>\n",
       "</table>\n",
       "<p>5 rows × 155 columns</p>\n",
       "</div>"
      ],
      "text/plain": [
       "        pipe_id  install_year  diameter  break_year   env_dat_0  env_dat_1  \\\n",
       "41  P0000000041          1983     20.32      1990.0  568.710022  17.559999   \n",
       "52  P0000000052          1968     20.32      1995.0  580.960022  18.260000   \n",
       "63  P0000000063          1991     10.16      2003.0  615.322571  18.112228   \n",
       "68  P0000000068          1924     20.32      2015.0  610.489990  17.080000   \n",
       "87  P0000000087          1947     15.24      1995.0  644.830017  17.790001   \n",
       "\n",
       "    env_dat_2  env_dat_3   env_dat_4  env_dat_5  ...  env_dat_141  \\\n",
       "41  14.100000  10.640000    0.023671   0.000005  ...     0.000505   \n",
       "52  14.340000  10.420000  299.776337   0.037117  ...     0.001921   \n",
       "63  14.210916  10.309492  105.444649   0.010701  ...     0.002991   \n",
       "68  13.870000  10.650000  113.146187   0.007912  ...     0.002717   \n",
       "87  13.830000   9.870000   86.456589   0.006315  ...     0.002754   \n",
       "\n",
       "    env_dat_142  env_dat_143  env_dat_144  material_A  material_C  material_D  \\\n",
       "41     0.383964          0.0          0.0           0           0           1   \n",
       "52     0.453269          0.0          1.0           0           0           1   \n",
       "63     0.310529          0.0          0.0           0           0           1   \n",
       "68     0.536662          0.0          0.0           0           1           0   \n",
       "87     0.321194          0.0          0.0           0           1           0   \n",
       "\n",
       "    material_O  material_S   age  \n",
       "41           0           0   7.0  \n",
       "52           0           0  27.0  \n",
       "63           0           0  12.0  \n",
       "68           0           0  91.0  \n",
       "87           0           0  48.0  \n",
       "\n",
       "[5 rows x 155 columns]"
      ]
     },
     "execution_count": 14,
     "metadata": {},
     "output_type": "execute_result"
    }
   ],
   "source": [
    "df_break.head()"
   ]
  },
  {
   "cell_type": "code",
   "execution_count": 15,
   "metadata": {},
   "outputs": [],
   "source": [
    "# import math\n",
    "# def draw_graph(df_product):\n",
    "#     cols = 5\n",
    "#     nums = 145\n",
    "#     rows = math.ceil(nums / cols)\n",
    "#     fig = plt.figure(facecolor='white', figsize=(10 * cols, 10 * rows))\n",
    "    \n",
    "#     # for i, (name, code) in enumerate(zip(df_product['製品名'], df_product['製品コード'])):\n",
    "#     for i in range(nums):\n",
    "#         ax = fig.add_subplot(rows, cols, i + 1)\n",
    "#         label = 'env_dat_'+str(i)\n",
    "#         df = df_product[label]\n",
    "#         ax.hist(df)\n",
    "#         plt.xticks(rotation=90)\n",
    "#         ax.set_title(f'{label}')\n",
    "#         ax.set_ylabel(f'{label}')\n",
    "#         # ax.set_xlabel('受注月')\n",
    "#     fig.tight_layout()\n",
    "#     fig.show()\n",
    "#     fig.savefig(f'{label}.png')"
   ]
  },
  {
   "cell_type": "code",
   "execution_count": 16,
   "metadata": {},
   "outputs": [],
   "source": [
    "# draw_graph(df_break)"
   ]
  },
  {
   "cell_type": "code",
   "execution_count": 17,
   "metadata": {},
   "outputs": [
    {
     "data": {
      "text/plain": [
       "<AxesSubplot:>"
      ]
     },
     "execution_count": 17,
     "metadata": {},
     "output_type": "execute_result"
    },
    {
     "data": {
      "image/png": "[encoded data removed]",
      "text/plain": [
       "<Figure size 432x288 with 1 Axes>"
      ]
     },
     "metadata": {
      "needs_background": "light"
     },
     "output_type": "display_data"
    }
   ],
   "source": [
    "df_break['env_dat_66'].plot()"
   ]
  },
  {
   "cell_type": "code",
   "execution_count": 18,
   "metadata": {},
   "outputs": [],
   "source": [
    "X = df_break.drop(['age', 'pipe_id','break_year'], axis=1)\n",
    "y = df_break['age']"
   ]
  },
  {
   "cell_type": "code",
   "execution_count": 19,
   "metadata": {},
   "outputs": [],
   "source": [
    "drop_list = ['env_dat_31',\n",
    "    'env_dat_40',\n",
    "    'env_dat_48',\n",
    "    'env_dat_80',\n",
    "    'env_dat_99',\n",
    "    'env_dat_123',\n",
    "    'env_dat_126',\n",
    "    'env_dat_127',\n",
    "    'env_dat_27',\n",
    "    'env_dat_45',\n",
    "    'env_dat_49',\n",
    "    'env_dat_51',\n",
    "    'env_dat_77',    \n",
    "    'env_dat_78',\n",
    "    'env_dat_124',\n",
    "    'env_dat_36',\n",
    "    'env_dat_130', \n",
    "    'env_dat_55',\n",
    "    'env_dat_118',\n",
    "    'env_dat_35',\n",
    "    'env_dat_76',\n",
    "    'env_dat_28',\n",
    "    'env_dat_52',\n",
    "    'env_dat_56',\n",
    "    'env_dat_125',\n",
    "    'env_dat_75',\n",
    "    'env_dat_79',\n",
    "    'env_dat_128',\n",
    "    'env_dat_46',\n",
    "    'env_dat_37', \n",
    "    'env_dat_44', \n",
    "    'env_dat_58', \n",
    "    'env_dat_33', \n",
    "    'env_dat_43', \n",
    "    'env_dat_47', \n",
    "    'env_dat_50', \n",
    "    'env_dat_96', \n",
    "    'env_dat_84', \n",
    "    'env_dat_17', \n",
    "    'env_dat_90', \n",
    "    'env_dat_30', \n",
    "    'env_dat_83', \n",
    "    'env_dat_42', \n",
    "    'env_dat_53', \n",
    "    'env_dat_117', \n",
    "    'env_dat_91', \n",
    "    'env_dat_143', \n",
    "    'env_dat_85', \n",
    "    'env_dat_81', \n",
    "    'env_dat_100',  \n",
    "    'env_dat_100',    \n",
    "    'age', \n",
    "    'pipe_id',\n",
    "    'break_year',\n",
    "    #'install_year',\n",
    "    ]\n",
    "\n",
    "X = df_break.drop(drop_list, axis=1)\n",
    "A = df_alive.drop(drop_list, axis=1)"
   ]
  },
  {
   "cell_type": "code",
   "execution_count": 20,
   "metadata": {},
   "outputs": [],
   "source": [
    "from sklearn.model_selection import train_test_split\n",
    "X_train, X_test, y_train, y_test = train_test_split(X, y, test_size=0.33, random_state=42)"
   ]
  },
  {
   "cell_type": "code",
   "execution_count": 22,
   "metadata": {},
   "outputs": [
    {
     "ename": "ImportError",
     "evalue": "cannot import name 'Dataset' from 'lightgbm' (unknown location)",
     "output_type": "error",
     "traceback": [
      "\u001b[0;31m---------------------------------------------------------------------------\u001b[0m",
      "\u001b[0;31mImportError\u001b[0m                               Traceback (most recent call last)",
      "\u001b[1;32m/home/mozart/fracta/notebooks/100_0_nari_fracta_EDA.ipynb Cell 27'\u001b[0m in \u001b[0;36m<cell line: 5>\u001b[0;34m()\u001b[0m\n\u001b[1;32m      <a href='vscode-notebook-cell://wsl%2Bubuntu-22.04/home/mozart/fracta/notebooks/100_0_nari_fracta_EDA.ipynb#ch0000026vscode-remote?line=0'>1</a>\u001b[0m \u001b[39m### optunaつかう\u001b[39;00m\n\u001b[1;32m      <a href='vscode-notebook-cell://wsl%2Bubuntu-22.04/home/mozart/fracta/notebooks/100_0_nari_fracta_EDA.ipynb#ch0000026vscode-remote?line=1'>2</a>\u001b[0m \u001b[39m# LightGBM用のデータセットに変換\u001b[39;00m\n\u001b[1;32m      <a href='vscode-notebook-cell://wsl%2Bubuntu-22.04/home/mozart/fracta/notebooks/100_0_nari_fracta_EDA.ipynb#ch0000026vscode-remote?line=2'>3</a>\u001b[0m \u001b[39m# import optuna.integration.lightgbm as lgb_o\u001b[39;00m\n\u001b[1;32m      <a href='vscode-notebook-cell://wsl%2Bubuntu-22.04/home/mozart/fracta/notebooks/100_0_nari_fracta_EDA.ipynb#ch0000026vscode-remote?line=3'>4</a>\u001b[0m \u001b[39mimport\u001b[39;00m \u001b[39mlightgbm\u001b[39;00m \u001b[39mas\u001b[39;00m \u001b[39mlgb_o\u001b[39;00m\n\u001b[0;32m----> <a href='vscode-notebook-cell://wsl%2Bubuntu-22.04/home/mozart/fracta/notebooks/100_0_nari_fracta_EDA.ipynb#ch0000026vscode-remote?line=4'>5</a>\u001b[0m \u001b[39mfrom\u001b[39;00m \u001b[39mlightgbm\u001b[39;00m \u001b[39mimport\u001b[39;00m Dataset\n\u001b[1;32m      <a href='vscode-notebook-cell://wsl%2Bubuntu-22.04/home/mozart/fracta/notebooks/100_0_nari_fracta_EDA.ipynb#ch0000026vscode-remote?line=5'>6</a>\u001b[0m \u001b[39mimport\u001b[39;00m \u001b[39mxgboost\u001b[39;00m \u001b[39mas\u001b[39;00m \u001b[39mxgb\u001b[39;00m\n\u001b[1;32m      <a href='vscode-notebook-cell://wsl%2Bubuntu-22.04/home/mozart/fracta/notebooks/100_0_nari_fracta_EDA.ipynb#ch0000026vscode-remote?line=7'>8</a>\u001b[0m train \u001b[39m=\u001b[39m lgb_o\u001b[39m.\u001b[39mDataset(X_train, y_train)\n",
      "\u001b[0;31mImportError\u001b[0m: cannot import name 'Dataset' from 'lightgbm' (unknown location)"
     ]
    }
   ],
   "source": [
    "### optunaつかう\n",
    "# LightGBM用のデータセットに変換\n",
    "# import optuna.integration.lightgbm as lgb_o\n",
    "import lightgbm as lgb_o\n",
    "# from lightgbm import Dataset\n",
    "import xgboost as xgb\n",
    "\n",
    "train = lgb_o.Dataset(X_train, y_train)\n",
    "val = Dataset(X_test, y_test)\n",
    "\n",
    "# train = xgb.DMatrix(X_train, y_train)\n",
    "# val = xgb.DMatrix(X_test, y_test)\n",
    "\n",
    "\n",
    "# %%time\n",
    "# ハイパーパラメータサーチ&モデル構築\n",
    "params = {'objective': 'regression',\n",
    "        'metric': 'rmse',\n",
    "        'random_seed':0} \n",
    "\n",
    "params = {\n",
    "        'objective': 'regression',\n",
    "        'metric': 'rmse',\n",
    "        'random_seed': 0,\n",
    "        'feature_pre_filter': False,\n",
    "        'lambda_l1': 0.05,\n",
    "        'lambda_l2': 0.05,\n",
    "        'num_leaves': 1000,\n",
    "        'feature_fraction': 0.8,\n",
    "        'bagging_fraction': 0.8,\n",
    "        'bagging_freq': 100,\n",
    "        # 'min_data_in_leaf': 5,\n",
    "        'min_child_samples': 5,\n",
    "        'num_iterations': 1000,\n",
    "        'early_stopping_round': 3000    \n",
    "}\n",
    "\n",
    "gbm_o = lgb_o.train(params,\n",
    "                    train,\n",
    "                    valid_sets=val,\n",
    "                    early_stopping_rounds=3000,\n",
    "                    verbose_eval=20000)\n",
    "\n",
    "# gbm_o = xgb.train(params,\n",
    "#                     train,\n",
    "#                     # valid_sets=val,\n",
    "#                     early_stopping_rounds=3000,\n",
    "#                     verbose_eval=20000)                    \n",
    "\n",
    "# ベストパラメータの取得\n",
    "\n",
    "\n",
    "best_params = gbm_o.params\n",
    "print(\"  Params: \")\n",
    "for key, value in best_params.items():\n",
    "    print(\"    {}: {}\".format(key, value))\n",
    "\n",
    "import lightgbm as lgb\n",
    "\n",
    "## 新たにlightGBMで全trainデータ再学習させる場合 ##\n",
    "# params_best = dict(best_params.items())\n",
    "\n",
    "# gbm = lgb.LGBMRegressor(**params_best,random_state=0)\n",
    "\n",
    "# gbm.fit(train_X, train_y)\n",
    "# y_pred_train = gbm.predict(train_X, num_iteration=gbm_o.best_iteration)\n",
    "# y_pred_test = gbm.predict(test_X, num_iteration=gbm_o.best_iteration)\n",
    "###################################################\n",
    "\n",
    "## lightGBM-optunaで学習した(train_test_splitでval有)モデルで推論する場合\n",
    "y_pred_train = gbm_o.predict(X_train, num_iteration=gbm_o.best_iteration)\n",
    "y_pred_test = gbm_o.predict(X_test, num_iteration=gbm_o.best_iteration)\n",
    "############################################################################\n",
    "\n",
    "# # モデルのインスタンスの作成\n",
    "# model = lgb.LGBMRegressor()\n",
    "\n",
    "\n",
    "# model.fit(train_X, train_y) # モデルの学習\n",
    "# y_pred_train = model.predict(train_X)\n",
    "\n",
    "\n",
    "# テストデータの予測\n",
    "# y_pred_test = model.predict(test_X)\n",
    "\n",
    "from sklearn.metrics import mean_absolute_error, mean_squared_error, mean_absolute_percentage_error\n",
    "\n",
    "# print('MAPE: {:.2f}%'.format(mean_absolute_percentage_error(test_y, y_pred_test)*100))\n",
    "# print('RMSE: {:.2f}'.format(np.sqrt(mean_squared_error(test_y, y_pred_test))))\n",
    "# print('MAE: {:.2f}'.format(mean_absolute_error(test_y, y_pred_test)))\n",
    "lgb.plot_importance(gbm_o, figsize=(6, 9))"
   ]
  },
  {
   "cell_type": "code",
   "execution_count": null,
   "metadata": {},
   "outputs": [
    {
     "ename": "NameError",
     "evalue": "name 'gbm_o' is not defined",
     "output_type": "error",
     "traceback": [
      "\u001b[0;31m---------------------------------------------------------------------------\u001b[0m",
      "\u001b[0;31mNameError\u001b[0m                                 Traceback (most recent call last)",
      "\u001b[1;32m/home/mozart/fracta/notebooks/100_0_nari_fracta_EDA.ipynb Cell 30'\u001b[0m in \u001b[0;36m<cell line: 1>\u001b[0;34m()\u001b[0m\n\u001b[0;32m----> <a href='vscode-notebook-cell://wsl%2Bubuntu-22.04/home/mozart/fracta/notebooks/100_0_nari_fracta_EDA.ipynb#ch0000029vscode-remote?line=0'>1</a>\u001b[0m y_pred_train \u001b[39m=\u001b[39m gbm_o\u001b[39m.\u001b[39mpredict(X_train, num_iteration\u001b[39m=\u001b[39mgbm_o\u001b[39m.\u001b[39mbest_iteration)\n\u001b[1;32m      <a href='vscode-notebook-cell://wsl%2Bubuntu-22.04/home/mozart/fracta/notebooks/100_0_nari_fracta_EDA.ipynb#ch0000029vscode-remote?line=1'>2</a>\u001b[0m y_pred_test \u001b[39m=\u001b[39m gbm_o\u001b[39m.\u001b[39mpredict(X_test, num_iteration\u001b[39m=\u001b[39mgbm_o\u001b[39m.\u001b[39mbest_iteration)\n",
      "\u001b[0;31mNameError\u001b[0m: name 'gbm_o' is not defined"
     ]
    }
   ],
   "source": [
    "y_pred_train = gbm_o.predict(X_train, num_iteration=gbm_o.best_iteration)\n",
    "y_pred_test = gbm_o.predict(X_test, num_iteration=gbm_o.best_iteration)"
   ]
  },
  {
   "cell_type": "code",
   "execution_count": null,
   "metadata": {},
   "outputs": [
    {
     "data": {
      "text/html": [
       "<div>\n",
       "<style scoped>\n",
       "    .dataframe tbody tr th:only-of-type {\n",
       "        vertical-align: middle;\n",
       "    }\n",
       "\n",
       "    .dataframe tbody tr th {\n",
       "        vertical-align: top;\n",
       "    }\n",
       "\n",
       "    .dataframe thead th {\n",
       "        text-align: right;\n",
       "    }\n",
       "</style>\n",
       "<table border=\"1\" class=\"dataframe\">\n",
       "  <thead>\n",
       "    <tr style=\"text-align: right;\">\n",
       "      <th></th>\n",
       "      <th>R2</th>\n",
       "      <th>MAE</th>\n",
       "      <th>MSE</th>\n",
       "      <th>RMSE</th>\n",
       "    </tr>\n",
       "  </thead>\n",
       "  <tbody>\n",
       "    <tr>\n",
       "      <th>scores</th>\n",
       "      <td>0.789744</td>\n",
       "      <td>10.568473</td>\n",
       "      <td>167.377174</td>\n",
       "      <td>12.937433</td>\n",
       "    </tr>\n",
       "  </tbody>\n",
       "</table>\n",
       "</div>"
      ],
      "text/plain": [
       "              R2        MAE         MSE       RMSE\n",
       "scores  0.789744  10.568473  167.377174  12.937433"
      ]
     },
     "metadata": {},
     "output_type": "display_data"
    }
   ],
   "source": [
    "# 評価指標\n",
    "from sklearn.metrics import r2_score\n",
    "from sklearn.metrics import mean_absolute_error\n",
    "from sklearn.metrics import mean_squared_error\n",
    "\n",
    "# 評価\n",
    "def calculate_scores(true, pred):\n",
    "    \"\"\"全ての評価指標を計算する\n",
    "\n",
    "    Parameters\n",
    "    ----------\n",
    "    true (np.array)       : 実測値\n",
    "    pred (np.array)       : 予測値\n",
    "\n",
    "    Returns\n",
    "    -------\n",
    "    scores (pd.DataFrame) : 各評価指標を纏めた結果\n",
    "\n",
    "    \"\"\"\n",
    "    scores = {}\n",
    "    scores = pd.DataFrame({'R2': r2_score(true, pred),\n",
    "                          'MAE': mean_absolute_error(true, pred),\n",
    "                          'MSE': mean_squared_error(true, pred),\n",
    "                          'RMSE': np.sqrt(mean_squared_error(true, pred))},\n",
    "                           index = ['scores'])\n",
    "    return scores\n",
    "\n",
    "scores = calculate_scores(y_test, y_pred_test)\n",
    "display(scores)"
   ]
  },
  {
   "cell_type": "code",
   "execution_count": null,
   "metadata": {},
   "outputs": [
    {
     "data": {
      "text/plain": [
       "2106"
      ]
     },
     "metadata": {},
     "output_type": "display_data"
    },
    {
     "data": {
      "text/plain": [
       "(array([131., 156., 252., 401., 520., 338., 143., 104.,  48.,  13.]),\n",
       " array([ -2.59613108,  11.66488047,  25.92589202,  40.18690357,\n",
       "         54.44791511,  68.70892666,  82.96993821,  97.23094976,\n",
       "        111.49196131, 125.75297285, 140.0139844 ]),\n",
       " <BarContainer object of 10 artists>)"
      ]
     },
     "execution_count": 468,
     "metadata": {},
     "output_type": "execute_result"
    },
    {
     "data": {
      "image/png": "[encoded data removed]",
      "text/plain": [
       "<Figure size 432x288 with 1 Axes>"
      ]
     },
     "metadata": {
      "needs_background": "light"
     },
     "output_type": "display_data"
    }
   ],
   "source": [
    "display(len(y_pred_train))\n",
    "plt.hist(y_pred_train)"
   ]
  },
  {
   "cell_type": "code",
   "execution_count": null,
   "metadata": {},
   "outputs": [
    {
     "data": {
      "text/plain": [
       "<AxesSubplot:>"
      ]
     },
     "execution_count": 469,
     "metadata": {},
     "output_type": "execute_result"
    },
    {
     "data": {
      "image/png": "[encoded data removed]",
      "text/plain": [
       "<Figure size 432x288 with 1 Axes>"
      ]
     },
     "metadata": {
      "needs_background": "light"
     },
     "output_type": "display_data"
    }
   ],
   "source": [
    "y_train.hist()"
   ]
  },
  {
   "cell_type": "code",
   "execution_count": null,
   "metadata": {},
   "outputs": [
    {
     "data": {
      "text/plain": [
       "1038"
      ]
     },
     "metadata": {},
     "output_type": "display_data"
    },
    {
     "data": {
      "text/plain": [
       "(array([ 61.,  64.,  97., 165., 208., 259.,  62.,  63.,  46.,  13.]),\n",
       " array([ -0.33912669,  12.46204403,  25.26321475,  38.06438548,\n",
       "         50.8655562 ,  63.66672692,  76.46789764,  89.26906837,\n",
       "        102.07023909, 114.87140981, 127.67258053]),\n",
       " <BarContainer object of 10 artists>)"
      ]
     },
     "execution_count": 470,
     "metadata": {},
     "output_type": "execute_result"
    },
    {
     "data": {
      "image/png": "[encoded data removed]",
      "text/plain": [
       "<Figure size 432x288 with 1 Axes>"
      ]
     },
     "metadata": {
      "needs_background": "light"
     },
     "output_type": "display_data"
    }
   ],
   "source": [
    "display(len(y_pred_test))\n",
    "plt.hist(y_pred_test)"
   ]
  },
  {
   "cell_type": "code",
   "execution_count": null,
   "metadata": {},
   "outputs": [
    {
     "data": {
      "text/plain": [
       "<AxesSubplot:>"
      ]
     },
     "execution_count": 471,
     "metadata": {},
     "output_type": "execute_result"
    },
    {
     "data": {
      "image/png": "[encoded data removed]",
      "text/plain": [
       "<Figure size 432x288 with 1 Axes>"
      ]
     },
     "metadata": {
      "needs_background": "light"
     },
     "output_type": "display_data"
    }
   ],
   "source": [
    "y_test.hist()"
   ]
  },
  {
   "cell_type": "code",
   "execution_count": null,
   "metadata": {},
   "outputs": [
    {
     "data": {
      "image/png": "[encoded data removed]",
      "text/plain": [
       "<Figure size 432x288 with 1 Axes>"
      ]
     },
     "metadata": {
      "needs_background": "light"
     },
     "output_type": "display_data"
    }
   ],
   "source": [
    "from sklearn import linear_model\n",
    "lr = linear_model.LinearRegression()\n",
    "\n",
    "y_list_test = y_test.to_numpy()\n",
    "lr.fit(y_list_test.reshape(-1, 1), y_pred_test)\n",
    "\n",
    "plt.scatter(y_list_test, y_pred_test, color = 'blue')         # 説明変数と目的変数のデータ点の散布図をプロット\n",
    "plt.plot(y_list_test, lr.predict(y_list_test.reshape(-1, 1)), color = 'red') # 回帰直線をプロット\n",
    "\n",
    "plt.title('Regression Line')               # 図のタイトル\n",
    "plt.xlabel('Age Actual') # x軸のラベル\n",
    "plt.ylabel('Age Predict')    # y軸のラベル\n",
    "plt.grid()                                 # グリッド線を表示\n",
    "\n",
    "plt.show()          "
   ]
  },
  {
   "cell_type": "code",
   "execution_count": null,
   "metadata": {},
   "outputs": [
    {
     "data": {
      "text/plain": [
       "<AxesSubplot:title={'center':'Feature importance'}, xlabel='Feature importance', ylabel='Features'>"
      ]
     },
     "execution_count": 473,
     "metadata": {},
     "output_type": "execute_result"
    },
    {
     "data": {
      "image/png": "[encoded data removed]",
      "text/plain": [
       "<Figure size 432x1080 with 1 Axes>"
      ]
     },
     "metadata": {
      "needs_background": "light"
     },
     "output_type": "display_data"
    }
   ],
   "source": [
    "from sklearn.metrics import mean_absolute_error, mean_squared_error, mean_absolute_percentage_error\n",
    "\n",
    "# print('MAPE: {:.2f}%'.format(mean_absolute_percentage_error(test_y, y_pred_test)*100))\n",
    "# print('RMSE: {:.2f}'.format(np.sqrt(mean_squared_error(test_y, y_pred_test))))\n",
    "# print('MAE: {:.2f}'.format(mean_absolute_error(test_y, y_pred_test)))\n",
    "lgb.plot_importance(gbm_o, figsize=(6, 15))"
   ]
  },
  {
   "cell_type": "markdown",
   "metadata": {},
   "source": [
    "### 現在生存するデータ寿命を予測する"
   ]
  },
  {
   "cell_type": "code",
   "execution_count": null,
   "metadata": {},
   "outputs": [
    {
     "data": {
      "text/html": [
       "<div>\n",
       "<style scoped>\n",
       "    .dataframe tbody tr th:only-of-type {\n",
       "        vertical-align: middle;\n",
       "    }\n",
       "\n",
       "    .dataframe tbody tr th {\n",
       "        vertical-align: top;\n",
       "    }\n",
       "\n",
       "    .dataframe thead th {\n",
       "        text-align: right;\n",
       "    }\n",
       "</style>\n",
       "<table border=\"1\" class=\"dataframe\">\n",
       "  <thead>\n",
       "    <tr style=\"text-align: right;\">\n",
       "      <th></th>\n",
       "      <th>install_year</th>\n",
       "      <th>diameter</th>\n",
       "      <th>env_dat_0</th>\n",
       "      <th>env_dat_1</th>\n",
       "      <th>env_dat_2</th>\n",
       "      <th>env_dat_3</th>\n",
       "      <th>env_dat_4</th>\n",
       "      <th>env_dat_5</th>\n",
       "      <th>env_dat_6</th>\n",
       "      <th>env_dat_7</th>\n",
       "      <th>...</th>\n",
       "      <th>env_dat_139</th>\n",
       "      <th>env_dat_140</th>\n",
       "      <th>env_dat_141</th>\n",
       "      <th>env_dat_142</th>\n",
       "      <th>env_dat_144</th>\n",
       "      <th>material_A</th>\n",
       "      <th>material_C</th>\n",
       "      <th>material_D</th>\n",
       "      <th>material_O</th>\n",
       "      <th>material_S</th>\n",
       "    </tr>\n",
       "  </thead>\n",
       "  <tbody>\n",
       "    <tr>\n",
       "      <th>0</th>\n",
       "      <td>1985</td>\n",
       "      <td>20.32</td>\n",
       "      <td>623.542175</td>\n",
       "      <td>18.052843</td>\n",
       "      <td>14.161422</td>\n",
       "      <td>10.268579</td>\n",
       "      <td>159.662827</td>\n",
       "      <td>0.010340</td>\n",
       "      <td>0.030000</td>\n",
       "      <td>0.000000</td>\n",
       "      <td>...</td>\n",
       "      <td>27.000000</td>\n",
       "      <td>3085.786865</td>\n",
       "      <td>0.002728</td>\n",
       "      <td>0.311803</td>\n",
       "      <td>0.0</td>\n",
       "      <td>0</td>\n",
       "      <td>0</td>\n",
       "      <td>1</td>\n",
       "      <td>0</td>\n",
       "      <td>0</td>\n",
       "    </tr>\n",
       "    <tr>\n",
       "      <th>1</th>\n",
       "      <td>1934</td>\n",
       "      <td>15.24</td>\n",
       "      <td>644.830017</td>\n",
       "      <td>17.790001</td>\n",
       "      <td>13.830000</td>\n",
       "      <td>9.870000</td>\n",
       "      <td>257.001221</td>\n",
       "      <td>0.007786</td>\n",
       "      <td>0.030000</td>\n",
       "      <td>0.002000</td>\n",
       "      <td>...</td>\n",
       "      <td>32.571018</td>\n",
       "      <td>3188.292236</td>\n",
       "      <td>0.003291</td>\n",
       "      <td>0.322161</td>\n",
       "      <td>0.0</td>\n",
       "      <td>0</td>\n",
       "      <td>1</td>\n",
       "      <td>0</td>\n",
       "      <td>0</td>\n",
       "      <td>0</td>\n",
       "    </tr>\n",
       "    <tr>\n",
       "      <th>2</th>\n",
       "      <td>1904</td>\n",
       "      <td>20.32</td>\n",
       "      <td>604.570007</td>\n",
       "      <td>18.219999</td>\n",
       "      <td>14.350000</td>\n",
       "      <td>10.470000</td>\n",
       "      <td>225.165039</td>\n",
       "      <td>0.014548</td>\n",
       "      <td>0.006675</td>\n",
       "      <td>0.002439</td>\n",
       "      <td>...</td>\n",
       "      <td>28.978306</td>\n",
       "      <td>4542.257324</td>\n",
       "      <td>0.002928</td>\n",
       "      <td>0.458972</td>\n",
       "      <td>0.0</td>\n",
       "      <td>0</td>\n",
       "      <td>1</td>\n",
       "      <td>0</td>\n",
       "      <td>0</td>\n",
       "      <td>0</td>\n",
       "    </tr>\n",
       "    <tr>\n",
       "      <th>3</th>\n",
       "      <td>1979</td>\n",
       "      <td>15.24</td>\n",
       "      <td>573.424011</td>\n",
       "      <td>17.671381</td>\n",
       "      <td>14.132636</td>\n",
       "      <td>10.586646</td>\n",
       "      <td>170.244339</td>\n",
       "      <td>0.014938</td>\n",
       "      <td>0.005481</td>\n",
       "      <td>0.000583</td>\n",
       "      <td>...</td>\n",
       "      <td>41.983772</td>\n",
       "      <td>4521.720215</td>\n",
       "      <td>0.004242</td>\n",
       "      <td>0.456897</td>\n",
       "      <td>0.0</td>\n",
       "      <td>0</td>\n",
       "      <td>0</td>\n",
       "      <td>1</td>\n",
       "      <td>0</td>\n",
       "      <td>0</td>\n",
       "    </tr>\n",
       "    <tr>\n",
       "      <th>4</th>\n",
       "      <td>1987</td>\n",
       "      <td>20.32</td>\n",
       "      <td>583.429993</td>\n",
       "      <td>18.280001</td>\n",
       "      <td>14.350000</td>\n",
       "      <td>10.420000</td>\n",
       "      <td>171.034073</td>\n",
       "      <td>0.025906</td>\n",
       "      <td>0.008322</td>\n",
       "      <td>0.000000</td>\n",
       "      <td>...</td>\n",
       "      <td>25.842377</td>\n",
       "      <td>4978.718262</td>\n",
       "      <td>0.002611</td>\n",
       "      <td>0.503074</td>\n",
       "      <td>0.0</td>\n",
       "      <td>0</td>\n",
       "      <td>0</td>\n",
       "      <td>1</td>\n",
       "      <td>0</td>\n",
       "      <td>0</td>\n",
       "    </tr>\n",
       "    <tr>\n",
       "      <th>...</th>\n",
       "      <td>...</td>\n",
       "      <td>...</td>\n",
       "      <td>...</td>\n",
       "      <td>...</td>\n",
       "      <td>...</td>\n",
       "      <td>...</td>\n",
       "      <td>...</td>\n",
       "      <td>...</td>\n",
       "      <td>...</td>\n",
       "      <td>...</td>\n",
       "      <td>...</td>\n",
       "      <td>...</td>\n",
       "      <td>...</td>\n",
       "      <td>...</td>\n",
       "      <td>...</td>\n",
       "      <td>...</td>\n",
       "      <td>...</td>\n",
       "      <td>...</td>\n",
       "      <td>...</td>\n",
       "      <td>...</td>\n",
       "      <td>...</td>\n",
       "    </tr>\n",
       "    <tr>\n",
       "      <th>56769</th>\n",
       "      <td>2016</td>\n",
       "      <td>20.32</td>\n",
       "      <td>610.280029</td>\n",
       "      <td>18.280001</td>\n",
       "      <td>14.340000</td>\n",
       "      <td>10.400000</td>\n",
       "      <td>190.049469</td>\n",
       "      <td>0.010628</td>\n",
       "      <td>0.030000</td>\n",
       "      <td>0.001782</td>\n",
       "      <td>...</td>\n",
       "      <td>26.000000</td>\n",
       "      <td>2504.886719</td>\n",
       "      <td>0.002627</td>\n",
       "      <td>0.253106</td>\n",
       "      <td>0.0</td>\n",
       "      <td>0</td>\n",
       "      <td>0</td>\n",
       "      <td>1</td>\n",
       "      <td>0</td>\n",
       "      <td>0</td>\n",
       "    </tr>\n",
       "    <tr>\n",
       "      <th>56770</th>\n",
       "      <td>2016</td>\n",
       "      <td>20.32</td>\n",
       "      <td>610.280029</td>\n",
       "      <td>18.280001</td>\n",
       "      <td>14.340000</td>\n",
       "      <td>10.400000</td>\n",
       "      <td>190.049469</td>\n",
       "      <td>0.010628</td>\n",
       "      <td>0.030000</td>\n",
       "      <td>0.001782</td>\n",
       "      <td>...</td>\n",
       "      <td>26.000000</td>\n",
       "      <td>2504.886719</td>\n",
       "      <td>0.002627</td>\n",
       "      <td>0.253106</td>\n",
       "      <td>0.0</td>\n",
       "      <td>0</td>\n",
       "      <td>0</td>\n",
       "      <td>1</td>\n",
       "      <td>0</td>\n",
       "      <td>0</td>\n",
       "    </tr>\n",
       "    <tr>\n",
       "      <th>56771</th>\n",
       "      <td>2016</td>\n",
       "      <td>20.32</td>\n",
       "      <td>610.280029</td>\n",
       "      <td>18.280001</td>\n",
       "      <td>14.340000</td>\n",
       "      <td>10.400000</td>\n",
       "      <td>190.049469</td>\n",
       "      <td>0.010628</td>\n",
       "      <td>0.030000</td>\n",
       "      <td>0.001782</td>\n",
       "      <td>...</td>\n",
       "      <td>26.000000</td>\n",
       "      <td>2504.886719</td>\n",
       "      <td>0.002627</td>\n",
       "      <td>0.253106</td>\n",
       "      <td>0.0</td>\n",
       "      <td>0</td>\n",
       "      <td>0</td>\n",
       "      <td>1</td>\n",
       "      <td>0</td>\n",
       "      <td>0</td>\n",
       "    </tr>\n",
       "    <tr>\n",
       "      <th>56772</th>\n",
       "      <td>2016</td>\n",
       "      <td>20.32</td>\n",
       "      <td>610.280029</td>\n",
       "      <td>18.280001</td>\n",
       "      <td>14.340000</td>\n",
       "      <td>10.400000</td>\n",
       "      <td>190.049469</td>\n",
       "      <td>0.010628</td>\n",
       "      <td>0.030000</td>\n",
       "      <td>0.001782</td>\n",
       "      <td>...</td>\n",
       "      <td>26.000000</td>\n",
       "      <td>2504.886719</td>\n",
       "      <td>0.002627</td>\n",
       "      <td>0.253106</td>\n",
       "      <td>0.0</td>\n",
       "      <td>0</td>\n",
       "      <td>0</td>\n",
       "      <td>1</td>\n",
       "      <td>0</td>\n",
       "      <td>0</td>\n",
       "    </tr>\n",
       "    <tr>\n",
       "      <th>56773</th>\n",
       "      <td>2016</td>\n",
       "      <td>20.32</td>\n",
       "      <td>610.280029</td>\n",
       "      <td>18.280001</td>\n",
       "      <td>14.340000</td>\n",
       "      <td>10.400000</td>\n",
       "      <td>190.049469</td>\n",
       "      <td>0.010628</td>\n",
       "      <td>0.030000</td>\n",
       "      <td>0.001782</td>\n",
       "      <td>...</td>\n",
       "      <td>26.000000</td>\n",
       "      <td>2504.886719</td>\n",
       "      <td>0.002627</td>\n",
       "      <td>0.253106</td>\n",
       "      <td>0.0</td>\n",
       "      <td>0</td>\n",
       "      <td>0</td>\n",
       "      <td>1</td>\n",
       "      <td>0</td>\n",
       "      <td>0</td>\n",
       "    </tr>\n",
       "  </tbody>\n",
       "</table>\n",
       "<p>53630 rows × 102 columns</p>\n",
       "</div>"
      ],
      "text/plain": [
       "       install_year  diameter   env_dat_0  env_dat_1  env_dat_2  env_dat_3  \\\n",
       "0              1985     20.32  623.542175  18.052843  14.161422  10.268579   \n",
       "1              1934     15.24  644.830017  17.790001  13.830000   9.870000   \n",
       "2              1904     20.32  604.570007  18.219999  14.350000  10.470000   \n",
       "3              1979     15.24  573.424011  17.671381  14.132636  10.586646   \n",
       "4              1987     20.32  583.429993  18.280001  14.350000  10.420000   \n",
       "...             ...       ...         ...        ...        ...        ...   \n",
       "56769          2016     20.32  610.280029  18.280001  14.340000  10.400000   \n",
       "56770          2016     20.32  610.280029  18.280001  14.340000  10.400000   \n",
       "56771          2016     20.32  610.280029  18.280001  14.340000  10.400000   \n",
       "56772          2016     20.32  610.280029  18.280001  14.340000  10.400000   \n",
       "56773          2016     20.32  610.280029  18.280001  14.340000  10.400000   \n",
       "\n",
       "        env_dat_4  env_dat_5  env_dat_6  env_dat_7  ...  env_dat_139  \\\n",
       "0      159.662827   0.010340   0.030000   0.000000  ...    27.000000   \n",
       "1      257.001221   0.007786   0.030000   0.002000  ...    32.571018   \n",
       "2      225.165039   0.014548   0.006675   0.002439  ...    28.978306   \n",
       "3      170.244339   0.014938   0.005481   0.000583  ...    41.983772   \n",
       "4      171.034073   0.025906   0.008322   0.000000  ...    25.842377   \n",
       "...           ...        ...        ...        ...  ...          ...   \n",
       "56769  190.049469   0.010628   0.030000   0.001782  ...    26.000000   \n",
       "56770  190.049469   0.010628   0.030000   0.001782  ...    26.000000   \n",
       "56771  190.049469   0.010628   0.030000   0.001782  ...    26.000000   \n",
       "56772  190.049469   0.010628   0.030000   0.001782  ...    26.000000   \n",
       "56773  190.049469   0.010628   0.030000   0.001782  ...    26.000000   \n",
       "\n",
       "       env_dat_140  env_dat_141  env_dat_142  env_dat_144  material_A  \\\n",
       "0      3085.786865     0.002728     0.311803          0.0           0   \n",
       "1      3188.292236     0.003291     0.322161          0.0           0   \n",
       "2      4542.257324     0.002928     0.458972          0.0           0   \n",
       "3      4521.720215     0.004242     0.456897          0.0           0   \n",
       "4      4978.718262     0.002611     0.503074          0.0           0   \n",
       "...            ...          ...          ...          ...         ...   \n",
       "56769  2504.886719     0.002627     0.253106          0.0           0   \n",
       "56770  2504.886719     0.002627     0.253106          0.0           0   \n",
       "56771  2504.886719     0.002627     0.253106          0.0           0   \n",
       "56772  2504.886719     0.002627     0.253106          0.0           0   \n",
       "56773  2504.886719     0.002627     0.253106          0.0           0   \n",
       "\n",
       "       material_C  material_D  material_O  material_S  \n",
       "0               0           1           0           0  \n",
       "1               1           0           0           0  \n",
       "2               1           0           0           0  \n",
       "3               0           1           0           0  \n",
       "4               0           1           0           0  \n",
       "...           ...         ...         ...         ...  \n",
       "56769           0           1           0           0  \n",
       "56770           0           1           0           0  \n",
       "56771           0           1           0           0  \n",
       "56772           0           1           0           0  \n",
       "56773           0           1           0           0  \n",
       "\n",
       "[53630 rows x 102 columns]"
      ]
     },
     "execution_count": 474,
     "metadata": {},
     "output_type": "execute_result"
    }
   ],
   "source": [
    "A"
   ]
  },
  {
   "cell_type": "markdown",
   "metadata": {},
   "source": [
    "年齢を予測します。"
   ]
  },
  {
   "cell_type": "code",
   "execution_count": null,
   "metadata": {},
   "outputs": [],
   "source": [
    "pred = gbm_o.predict(A, num_iteration=gbm_o.best_iteration)"
   ]
  },
  {
   "cell_type": "code",
   "execution_count": null,
   "metadata": {},
   "outputs": [
    {
     "data": {
      "text/plain": [
       "array([[<AxesSubplot:title={'center':'0'}>]], dtype=object)"
      ]
     },
     "execution_count": 476,
     "metadata": {},
     "output_type": "execute_result"
    },
    {
     "data": {
      "image/png": "[encoded data removed]",
      "text/plain": [
       "<Figure size 432x288 with 1 Axes>"
      ]
     },
     "metadata": {
      "needs_background": "light"
     },
     "output_type": "display_data"
    }
   ],
   "source": [
    "pd.DataFrame(pred).hist()"
   ]
  },
  {
   "cell_type": "code",
   "execution_count": null,
   "metadata": {},
   "outputs": [],
   "source": [
    "A['break_pred']=A['install_year'].add(pred, axis=0).astype(int)"
   ]
  },
  {
   "cell_type": "markdown",
   "metadata": {},
   "source": [
    "予測された破損件数のヒストグラムを見てみます。"
   ]
  },
  {
   "cell_type": "code",
   "execution_count": null,
   "metadata": {},
   "outputs": [
    {
     "data": {
      "text/plain": [
       "<AxesSubplot:>"
      ]
     },
     "execution_count": 478,
     "metadata": {},
     "output_type": "execute_result"
    },
    {
     "data": {
      "image/png": "[encoded data removed]",
      "text/plain": [
       "<Figure size 432x288 with 1 Axes>"
      ]
     },
     "metadata": {
      "needs_background": "light"
     },
     "output_type": "display_data"
    }
   ],
   "source": [
    "A['break_pred'].hist()"
   ]
  },
  {
   "cell_type": "code",
   "execution_count": null,
   "metadata": {},
   "outputs": [
    {
     "data": {
      "text/plain": [
       "<AxesSubplot:>"
      ]
     },
     "execution_count": 479,
     "metadata": {},
     "output_type": "execute_result"
    },
    {
     "data": {
      "image/png": "[encoded data removed]",
      "text/plain": [
       "<Figure size 432x288 with 1 Axes>"
      ]
     },
     "metadata": {
      "needs_background": "light"
     },
     "output_type": "display_data"
    }
   ],
   "source": [
    "A[A['break_pred'] > 2020]['install_year'].hist()"
   ]
  },
  {
   "cell_type": "markdown",
   "metadata": {},
   "source": [
    "### 2021年にパイプが破損する確率を求めたい\n",
    "- S: 2020年には生きている（正常である）\n",
    "- D: 2021年に死ぬ（破損する）\n",
    "\n",
    "S, D が以上で与えられている時、求める確率は以下の通りです。\n",
    "\n",
    "P(D|S) = P(D)/P(S)"
   ]
  },
  {
   "cell_type": "code",
   "execution_count": null,
   "metadata": {},
   "outputs": [
    {
     "data": {
      "text/plain": [
       "0.018702218907327987"
      ]
     },
     "metadata": {},
     "output_type": "display_data"
    }
   ],
   "source": [
    "p_s = (len(A) - len(A[A['break_pred'] <= 2020])) / len(A) \n",
    "\n",
    "display(p_s)"
   ]
  },
  {
   "cell_type": "code",
   "execution_count": null,
   "metadata": {},
   "outputs": [
    {
     "data": {
      "text/plain": [
       "0.007589035987320529"
      ]
     },
     "metadata": {},
     "output_type": "display_data"
    }
   ],
   "source": [
    "p_d = len(A[A['break_pred'] == 2021]) / len(A)\n",
    "\n",
    "display (p_d)"
   ]
  },
  {
   "cell_type": "code",
   "execution_count": null,
   "metadata": {},
   "outputs": [
    {
     "data": {
      "text/plain": [
       "0.40578265204386843"
      ]
     },
     "metadata": {},
     "output_type": "display_data"
    }
   ],
   "source": [
    "p_2021 = p_d / p_s\n",
    "\n",
    "display(p_2021)\n"
   ]
  },
  {
   "cell_type": "markdown",
   "metadata": {},
   "source": [
    "2021年にパイプが破損する確率は約41％の予測になります。"
   ]
  },
  {
   "cell_type": "code",
   "execution_count": null,
   "metadata": {},
   "outputs": [],
   "source": []
  }
 ],
 "metadata": {
  "interpreter": {
   "hash": "1008cd02c816cabd9a3e6a9d9e8497facead2d096ab9999a2fc6d1296f002b4a"
  },
  "kernelspec": {
   "display_name": "Python 3.10.4 ('.venv': venv)",
   "language": "python",
   "name": "python3"
  },
  "language_info": {
   "codemirror_mode": {
    "name": "ipython",
    "version": 3
   },
   "file_extension": ".py",
   "mimetype": "text/x-python",
   "name": "python",
   "nbconvert_exporter": "python",
   "pygments_lexer": "ipython3",
   "version": "3.10.4"
  },
  "orig_nbformat": 4
 },
 "nbformat": 4,
 "nbformat_minor": 2
}
